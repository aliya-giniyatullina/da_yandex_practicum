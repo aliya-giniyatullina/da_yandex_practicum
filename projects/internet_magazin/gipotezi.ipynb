{
 "cells": [
  {
   "cell_type": "markdown",
   "metadata": {},
   "source": [
    "# Принятие решений в бизнесе."
   ]
  },
  {
   "cell_type": "markdown",
   "metadata": {},
   "source": [
    "<p></p>\n",
    "\n",
    "<div style=\"border:solid black 1px; padding: 20px\">В моём распоряжении три датасета. Файл hypothesis.csv хранит данные для приоритезации гипотезы, orders.csv — информацию о заказах, а visitors.csv — информацию для A/B-теста.</div>\n",
    "\n",
    "<p></p>"
   ]
  },
  {
   "cell_type": "markdown",
   "metadata": {},
   "source": [
    "<div style=\"background: #E6E6FA; padding: 5px; border: 1px solid #778899; border-radius: 5px;\">\n",
    "    <font color='20B2AA'><b>Цель исследования.</b></font>\n",
    "    <br />\n",
    "    <br />\n",
    "    <font color='778899'> Вместе с отделом маркетинга мы подготовили список гипотез для увеличения выручки.\n",
    "Нужно приоритизировать гипотезы, запустить A/B-тест и проанализировать результаты. </font><p></p>\n",
    "</div>"
   ]
  },
  {
   "cell_type": "markdown",
   "metadata": {},
   "source": [
    "<div style=\"background: #E6E6FA; padding: 5px; border: 1px solid #778899; border-radius: 5px;\">\n",
    "    <font color='20B2AA'><b>Задачи исследования.</b></font>\n",
    "    <br />\n",
    "    <br />\n",
    "    <font color='778899'> 1) Выгрузить данные. <br />\n",
    "    2) Изучить данные. <br />\n",
    "    3) Предобработка данных. <br />\n",
    "    4) Применить фреймворк ICE для приоритизации гипотез. <br />\n",
    "    5) Применить фреймворк RICE для приоритизации гипотез.<br />\n",
    "    6) Анализ и сравнение выводов. <br /> \n",
    "    7) Проанализировать A/B-тест. <br />\n",
    "    8) Принять решение по результатам теста. <br /> </font><p></p>\n",
    "</div>"
   ]
  },
  {
   "cell_type": "markdown",
   "metadata": {},
   "source": [
    "<div style=\"background: #E6E6FA; padding: 5px; border: 1px solid #778899; border-radius: 5px;\">\n",
    "    <font color='20B2AA'><b>Исходные данные.</b></font>\n",
    "    <br />\n",
    "    <br />\n",
    "\n",
    "<font color='778899'> <font color='20B2AA'><b>Данные для первой части: </b></font><br /><br />\n",
    "Файл /datasets/hypothesis.csv. <br />\n",
    "Hypothesis — краткое описание гипотезы;<br />\n",
    "Reach — охват пользователей по 10-балльной шкале;<br />\n",
    "Impact — влияние на пользователей по 10-балльной шкале;<br />\n",
    "Confidence — уверенность в гипотезе по 10-балльной шкале;<br />\n",
    "Efforts — затраты ресурсов на проверку гипотезы по 10-балльной шкале. Чем больше значение Efforts, тем дороже проверка гипотезы.<br />\n",
    "<br />\n",
    "<font color='20B2AA'><b>Данные для второй части:</b></font> <br /><br />\n",
    "Файл /datasets/orders.csv.<br />\n",
    "transactionId — идентификатор заказа;<br />\n",
    "visitorId — идентификатор пользователя, совершившего заказ;<br />\n",
    "date — дата, когда был совершён заказ;<br />\n",
    "revenue — выручка заказа;<br />\n",
    "group — группа A/B-теста, в которую попал заказ.<br />\n",
    "Файл /datasets/visitors.csv. <br />\n",
    "date — дата;<br />\n",
    "group — группа A/B-теста;<br />\n",
    "visitors — количество пользователей в указанную дату в указанной группе A/B-теста </b></font> <p></p>\n",
    "</div>"
   ]
  },
  {
   "cell_type": "markdown",
   "metadata": {},
   "source": [
    "### Загрузка данных и подготовка их к анализу."
   ]
  },
  {
   "cell_type": "markdown",
   "metadata": {},
   "source": [
    "#### Загрузка данных."
   ]
  },
  {
   "cell_type": "code",
   "execution_count": 1,
   "metadata": {},
   "outputs": [],
   "source": [
    "#Импортирую библиотеки.\n",
    "import pandas as pd\n",
    "import numpy as np\n",
    "import matplotlib.pyplot as plt\n",
    "import seaborn as sns\n",
    "import scipy.stats as stats\n",
    "import datetime as dt\n",
    "from pandas.plotting import register_matplotlib_converters\n",
    "import warnings"
   ]
  },
  {
   "cell_type": "code",
   "execution_count": 2,
   "metadata": {},
   "outputs": [],
   "source": [
    "#Открываю файлы с данными.\n",
    "hypothesis = pd.read_csv('https://code.s3.yandex.net/datasets/hypothesis.csv')\n",
    "orders = pd.read_csv('https://code.s3.yandex.net/datasets/orders.csv')\n",
    "visitors = pd.read_csv('https://code.s3.yandex.net/datasets/visitors.csv')"
   ]
  },
  {
   "cell_type": "markdown",
   "metadata": {},
   "source": [
    "#### Изучение данных."
   ]
  },
  {
   "cell_type": "code",
   "execution_count": 3,
   "metadata": {},
   "outputs": [
    {
     "name": "stdout",
     "output_type": "stream",
     "text": [
      "<class 'pandas.core.frame.DataFrame'>\n",
      "RangeIndex: 9 entries, 0 to 8\n",
      "Data columns (total 5 columns):\n",
      " #   Column      Non-Null Count  Dtype \n",
      "---  ------      --------------  ----- \n",
      " 0   Hypothesis  9 non-null      object\n",
      " 1   Reach       9 non-null      int64 \n",
      " 2   Impact      9 non-null      int64 \n",
      " 3   Confidence  9 non-null      int64 \n",
      " 4   Efforts     9 non-null      int64 \n",
      "dtypes: int64(4), object(1)\n",
      "memory usage: 488.0+ bytes\n"
     ]
    }
   ],
   "source": [
    "#Использую метод info()\n",
    "hypothesis.info()"
   ]
  },
  {
   "cell_type": "code",
   "execution_count": 4,
   "metadata": {},
   "outputs": [
    {
     "name": "stdout",
     "output_type": "stream",
     "text": [
      "<class 'pandas.core.frame.DataFrame'>\n",
      "RangeIndex: 1197 entries, 0 to 1196\n",
      "Data columns (total 5 columns):\n",
      " #   Column         Non-Null Count  Dtype \n",
      "---  ------         --------------  ----- \n",
      " 0   transactionId  1197 non-null   int64 \n",
      " 1   visitorId      1197 non-null   int64 \n",
      " 2   date           1197 non-null   object\n",
      " 3   revenue        1197 non-null   int64 \n",
      " 4   group          1197 non-null   object\n",
      "dtypes: int64(3), object(2)\n",
      "memory usage: 46.9+ KB\n"
     ]
    }
   ],
   "source": [
    "orders.info()"
   ]
  },
  {
   "cell_type": "code",
   "execution_count": 5,
   "metadata": {},
   "outputs": [
    {
     "name": "stdout",
     "output_type": "stream",
     "text": [
      "<class 'pandas.core.frame.DataFrame'>\n",
      "RangeIndex: 62 entries, 0 to 61\n",
      "Data columns (total 3 columns):\n",
      " #   Column    Non-Null Count  Dtype \n",
      "---  ------    --------------  ----- \n",
      " 0   date      62 non-null     object\n",
      " 1   group     62 non-null     object\n",
      " 2   visitors  62 non-null     int64 \n",
      "dtypes: int64(1), object(2)\n",
      "memory usage: 1.6+ KB\n"
     ]
    }
   ],
   "source": [
    "visitors.info()"
   ]
  },
  {
   "cell_type": "code",
   "execution_count": 6,
   "metadata": {},
   "outputs": [
    {
     "data": {
      "text/plain": [
       "Hypothesis    0\n",
       "Reach         0\n",
       "Impact        0\n",
       "Confidence    0\n",
       "Efforts       0\n",
       "dtype: int64"
      ]
     },
     "execution_count": 6,
     "metadata": {},
     "output_type": "execute_result"
    }
   ],
   "source": [
    "#Вывожу сумму пропусков\n",
    "hypothesis.isna().sum()"
   ]
  },
  {
   "cell_type": "code",
   "execution_count": 7,
   "metadata": {},
   "outputs": [
    {
     "data": {
      "text/plain": [
       "transactionId    0\n",
       "visitorId        0\n",
       "date             0\n",
       "revenue          0\n",
       "group            0\n",
       "dtype: int64"
      ]
     },
     "execution_count": 7,
     "metadata": {},
     "output_type": "execute_result"
    }
   ],
   "source": [
    "orders.isna().sum()"
   ]
  },
  {
   "cell_type": "code",
   "execution_count": 8,
   "metadata": {},
   "outputs": [
    {
     "data": {
      "text/plain": [
       "date        0\n",
       "group       0\n",
       "visitors    0\n",
       "dtype: int64"
      ]
     },
     "execution_count": 8,
     "metadata": {},
     "output_type": "execute_result"
    }
   ],
   "source": [
    "visitors.isna().sum()"
   ]
  },
  {
   "cell_type": "markdown",
   "metadata": {},
   "source": [
    "**Вывод**\n",
    "<p></p>\n",
    "<div style=\"border:solid green 2px; padding: 20px\">\n",
    "<p></p>Смотря на информацию о датафреймах, можно заметить, что нет пропусков. Это большой плюс. Нужно изменить тип данных в колонках с датой и временем."
   ]
  },
  {
   "cell_type": "markdown",
   "metadata": {},
   "source": [
    "#### Предобработка данных."
   ]
  },
  {
   "cell_type": "markdown",
   "metadata": {},
   "source": [
    "##### Проверка на явные дубликаты."
   ]
  },
  {
   "cell_type": "code",
   "execution_count": 9,
   "metadata": {},
   "outputs": [
    {
     "data": {
      "text/plain": [
       "Hypothesis    0.0\n",
       "Reach         0.0\n",
       "Impact        0.0\n",
       "Confidence    0.0\n",
       "Efforts       0.0\n",
       "dtype: float64"
      ]
     },
     "execution_count": 9,
     "metadata": {},
     "output_type": "execute_result"
    }
   ],
   "source": [
    "hypothesis[hypothesis.duplicated()].sum()"
   ]
  },
  {
   "cell_type": "code",
   "execution_count": 10,
   "metadata": {},
   "outputs": [
    {
     "data": {
      "text/plain": [
       "transactionId    0.0\n",
       "visitorId        0.0\n",
       "date             0.0\n",
       "revenue          0.0\n",
       "group            0.0\n",
       "dtype: float64"
      ]
     },
     "execution_count": 10,
     "metadata": {},
     "output_type": "execute_result"
    }
   ],
   "source": [
    "orders[orders.duplicated()].sum()"
   ]
  },
  {
   "cell_type": "code",
   "execution_count": 11,
   "metadata": {},
   "outputs": [
    {
     "data": {
      "text/plain": [
       "date        0.0\n",
       "group       0.0\n",
       "visitors    0.0\n",
       "dtype: float64"
      ]
     },
     "execution_count": 11,
     "metadata": {},
     "output_type": "execute_result"
    }
   ],
   "source": [
    "visitors[visitors.duplicated()].sum()"
   ]
  },
  {
   "cell_type": "code",
   "execution_count": 12,
   "metadata": {},
   "outputs": [],
   "source": [
    "##### Проверка на скрытые дубликаты."
   ]
  },
  {
   "cell_type": "code",
   "execution_count": 13,
   "metadata": {},
   "outputs": [],
   "source": [
    "# создаем массив уникальных пар значений дат и групп теста, посчитаем дубликаты\n",
    "#orders[['date', 'group']].duplicated().sum()"
   ]
  },
  {
   "cell_type": "code",
   "execution_count": 14,
   "metadata": {},
   "outputs": [],
   "source": [
    "#удаление дубликатов\n",
    "#datesGroups = orders[['date', 'group']].drop_duplicates()"
   ]
  },
  {
   "cell_type": "markdown",
   "metadata": {},
   "source": [
    "##### Изменение типа данных"
   ]
  },
  {
   "cell_type": "code",
   "execution_count": 15,
   "metadata": {},
   "outputs": [
    {
     "name": "stdout",
     "output_type": "stream",
     "text": [
      "\n",
      "Дата начала эксперимента 2019-08-01 00:00:00\n",
      "Конечная дата 2019-08-31 00:00:00\n",
      "\n"
     ]
    }
   ],
   "source": [
    "# преобразуем данные о времени с помощью pd.to_datetime()\n",
    "orders['date'] = pd.to_datetime(orders['date'])\n",
    "visitors['date'] = pd.to_datetime(visitors['date'])\n",
    "print('\\nДата начала эксперимента {}\\nКонечная дата {}\\n'.format(visitors['date'].min(),visitors['date'].max()))"
   ]
  },
  {
   "cell_type": "markdown",
   "metadata": {},
   "source": [
    "**Вывод** \n",
    "<p></p>\n",
    "<div style=\"border:solid green 2px; padding: 20px\"> \n",
    "Провела предобработку данных: <br />\n",
    "1) Пропусков нет. <br />\n",
    "2) Явных дубликатов нет. <br />\n",
    "3) На неявные дубликаты проверять нецелесобразно. <br />\n",
    "4) Изменила тип данных о времени.<br />\n",
    "5) Эксперимент длится месяц. С 1 августа 2019г по 31 августа 2019г.   \n",
    "</div>"
   ]
  },
  {
   "cell_type": "code",
   "execution_count": 16,
   "metadata": {},
   "outputs": [
    {
     "name": "stdout",
     "output_type": "stream",
     "text": [
      "<class 'pandas.core.frame.DataFrame'>\n",
      "RangeIndex: 9 entries, 0 to 8\n",
      "Data columns (total 5 columns):\n",
      " #   Column      Non-Null Count  Dtype \n",
      "---  ------      --------------  ----- \n",
      " 0   Hypothesis  9 non-null      object\n",
      " 1   Reach       9 non-null      int64 \n",
      " 2   Impact      9 non-null      int64 \n",
      " 3   Confidence  9 non-null      int64 \n",
      " 4   Efforts     9 non-null      int64 \n",
      "dtypes: int64(4), object(1)\n",
      "memory usage: 488.0+ bytes\n"
     ]
    }
   ],
   "source": [
    "def proc(x):\n",
    "    return x.info()\n",
    "proc(hypothesis)\n",
    "#proc(orders)\n",
    "#proc(visitors)"
   ]
  },
  {
   "cell_type": "markdown",
   "metadata": {},
   "source": [
    "### Часть 1. Приоритизация гипотез."
   ]
  },
  {
   "cell_type": "markdown",
   "metadata": {},
   "source": [
    "#### Применение фреймворка ICE для приоритизации гипотез."
   ]
  },
  {
   "cell_type": "code",
   "execution_count": 17,
   "metadata": {},
   "outputs": [],
   "source": [
    "hypothesis['ICE']=hypothesis['Impact']*hypothesis['Confidence']/hypothesis['Efforts'] #обычные математические опреции по формуле"
   ]
  },
  {
   "cell_type": "code",
   "execution_count": 18,
   "metadata": {},
   "outputs": [
    {
     "data": {
      "text/html": [
       "<div>\n",
       "<style scoped>\n",
       "    .dataframe tbody tr th:only-of-type {\n",
       "        vertical-align: middle;\n",
       "    }\n",
       "\n",
       "    .dataframe tbody tr th {\n",
       "        vertical-align: top;\n",
       "    }\n",
       "\n",
       "    .dataframe thead th {\n",
       "        text-align: right;\n",
       "    }\n",
       "</style>\n",
       "<table border=\"1\" class=\"dataframe\">\n",
       "  <thead>\n",
       "    <tr style=\"text-align: right;\">\n",
       "      <th></th>\n",
       "      <th>Hypothesis</th>\n",
       "      <th>ICE</th>\n",
       "    </tr>\n",
       "  </thead>\n",
       "  <tbody>\n",
       "    <tr>\n",
       "      <th>8</th>\n",
       "      <td>Запустить акцию, дающую скидку на товар в день рождения</td>\n",
       "      <td>16.200000</td>\n",
       "    </tr>\n",
       "    <tr>\n",
       "      <th>0</th>\n",
       "      <td>Добавить два новых канала привлечения трафика, что позволит привлекать на 30% больше пользователей</td>\n",
       "      <td>13.333333</td>\n",
       "    </tr>\n",
       "    <tr>\n",
       "      <th>7</th>\n",
       "      <td>Добавить форму подписки на все основные страницы, чтобы собрать базу клиентов для email-рассылок</td>\n",
       "      <td>11.200000</td>\n",
       "    </tr>\n",
       "    <tr>\n",
       "      <th>6</th>\n",
       "      <td>Показать на главной странице баннеры с актуальными акциями и распродажами, чтобы увеличить конверсию</td>\n",
       "      <td>8.000000</td>\n",
       "    </tr>\n",
       "    <tr>\n",
       "      <th>2</th>\n",
       "      <td>Добавить блоки рекомендаций товаров на сайт интернет магазина, чтобы повысить конверсию и средний чек заказа</td>\n",
       "      <td>7.000000</td>\n",
       "    </tr>\n",
       "    <tr>\n",
       "      <th>1</th>\n",
       "      <td>Запустить собственную службу доставки, что сократит срок доставки заказов</td>\n",
       "      <td>2.000000</td>\n",
       "    </tr>\n",
       "    <tr>\n",
       "      <th>5</th>\n",
       "      <td>Добавить страницу отзывов клиентов о магазине, что позволит увеличить количество заказов</td>\n",
       "      <td>1.333333</td>\n",
       "    </tr>\n",
       "    <tr>\n",
       "      <th>3</th>\n",
       "      <td>Изменить структура категорий, что увеличит конверсию, т.к. пользователи быстрее найдут нужный товар</td>\n",
       "      <td>1.125000</td>\n",
       "    </tr>\n",
       "    <tr>\n",
       "      <th>4</th>\n",
       "      <td>Изменить цвет фона главной страницы, чтобы увеличить вовлеченность пользователей</td>\n",
       "      <td>1.000000</td>\n",
       "    </tr>\n",
       "  </tbody>\n",
       "</table>\n",
       "</div>"
      ],
      "text/plain": [
       "                                                                                                     Hypothesis  \\\n",
       "8                                                       Запустить акцию, дающую скидку на товар в день рождения   \n",
       "0            Добавить два новых канала привлечения трафика, что позволит привлекать на 30% больше пользователей   \n",
       "7              Добавить форму подписки на все основные страницы, чтобы собрать базу клиентов для email-рассылок   \n",
       "6          Показать на главной странице баннеры с актуальными акциями и распродажами, чтобы увеличить конверсию   \n",
       "2  Добавить блоки рекомендаций товаров на сайт интернет магазина, чтобы повысить конверсию и средний чек заказа   \n",
       "1                                     Запустить собственную службу доставки, что сократит срок доставки заказов   \n",
       "5                      Добавить страницу отзывов клиентов о магазине, что позволит увеличить количество заказов   \n",
       "3           Изменить структура категорий, что увеличит конверсию, т.к. пользователи быстрее найдут нужный товар   \n",
       "4                              Изменить цвет фона главной страницы, чтобы увеличить вовлеченность пользователей   \n",
       "\n",
       "         ICE  \n",
       "8  16.200000  \n",
       "0  13.333333  \n",
       "7  11.200000  \n",
       "6   8.000000  \n",
       "2   7.000000  \n",
       "1   2.000000  \n",
       "5   1.333333  \n",
       "3   1.125000  \n",
       "4   1.000000  "
      ]
     },
     "execution_count": 18,
     "metadata": {},
     "output_type": "execute_result"
    }
   ],
   "source": [
    "pd.set_option('display.max_colwidth', None) #метод для вывода всего названия гипотез без сокращения\n",
    "hypothesis[['Hypothesis', 'ICE']].sort_values(by='ICE', ascending=False) #сортировка"
   ]
  },
  {
   "cell_type": "markdown",
   "metadata": {},
   "source": [
    "#### Применение фреймворка RICE для приоритизации гипотез."
   ]
  },
  {
   "cell_type": "code",
   "execution_count": 19,
   "metadata": {},
   "outputs": [],
   "source": [
    "hypothesis['RICE']=hypothesis['Impact']*hypothesis['Confidence']*hypothesis['Reach']/hypothesis['Efforts']"
   ]
  },
  {
   "cell_type": "code",
   "execution_count": 20,
   "metadata": {},
   "outputs": [
    {
     "data": {
      "text/html": [
       "<div>\n",
       "<style scoped>\n",
       "    .dataframe tbody tr th:only-of-type {\n",
       "        vertical-align: middle;\n",
       "    }\n",
       "\n",
       "    .dataframe tbody tr th {\n",
       "        vertical-align: top;\n",
       "    }\n",
       "\n",
       "    .dataframe thead th {\n",
       "        text-align: right;\n",
       "    }\n",
       "</style>\n",
       "<table border=\"1\" class=\"dataframe\">\n",
       "  <thead>\n",
       "    <tr style=\"text-align: right;\">\n",
       "      <th></th>\n",
       "      <th>Hypothesis</th>\n",
       "      <th>RICE</th>\n",
       "    </tr>\n",
       "  </thead>\n",
       "  <tbody>\n",
       "    <tr>\n",
       "      <th>7</th>\n",
       "      <td>Добавить форму подписки на все основные страницы, чтобы собрать базу клиентов для email-рассылок</td>\n",
       "      <td>112.0</td>\n",
       "    </tr>\n",
       "    <tr>\n",
       "      <th>2</th>\n",
       "      <td>Добавить блоки рекомендаций товаров на сайт интернет магазина, чтобы повысить конверсию и средний чек заказа</td>\n",
       "      <td>56.0</td>\n",
       "    </tr>\n",
       "    <tr>\n",
       "      <th>0</th>\n",
       "      <td>Добавить два новых канала привлечения трафика, что позволит привлекать на 30% больше пользователей</td>\n",
       "      <td>40.0</td>\n",
       "    </tr>\n",
       "    <tr>\n",
       "      <th>6</th>\n",
       "      <td>Показать на главной странице баннеры с актуальными акциями и распродажами, чтобы увеличить конверсию</td>\n",
       "      <td>40.0</td>\n",
       "    </tr>\n",
       "    <tr>\n",
       "      <th>8</th>\n",
       "      <td>Запустить акцию, дающую скидку на товар в день рождения</td>\n",
       "      <td>16.2</td>\n",
       "    </tr>\n",
       "    <tr>\n",
       "      <th>3</th>\n",
       "      <td>Изменить структура категорий, что увеличит конверсию, т.к. пользователи быстрее найдут нужный товар</td>\n",
       "      <td>9.0</td>\n",
       "    </tr>\n",
       "    <tr>\n",
       "      <th>1</th>\n",
       "      <td>Запустить собственную службу доставки, что сократит срок доставки заказов</td>\n",
       "      <td>4.0</td>\n",
       "    </tr>\n",
       "    <tr>\n",
       "      <th>5</th>\n",
       "      <td>Добавить страницу отзывов клиентов о магазине, что позволит увеличить количество заказов</td>\n",
       "      <td>4.0</td>\n",
       "    </tr>\n",
       "    <tr>\n",
       "      <th>4</th>\n",
       "      <td>Изменить цвет фона главной страницы, чтобы увеличить вовлеченность пользователей</td>\n",
       "      <td>3.0</td>\n",
       "    </tr>\n",
       "  </tbody>\n",
       "</table>\n",
       "</div>"
      ],
      "text/plain": [
       "                                                                                                     Hypothesis  \\\n",
       "7              Добавить форму подписки на все основные страницы, чтобы собрать базу клиентов для email-рассылок   \n",
       "2  Добавить блоки рекомендаций товаров на сайт интернет магазина, чтобы повысить конверсию и средний чек заказа   \n",
       "0            Добавить два новых канала привлечения трафика, что позволит привлекать на 30% больше пользователей   \n",
       "6          Показать на главной странице баннеры с актуальными акциями и распродажами, чтобы увеличить конверсию   \n",
       "8                                                       Запустить акцию, дающую скидку на товар в день рождения   \n",
       "3           Изменить структура категорий, что увеличит конверсию, т.к. пользователи быстрее найдут нужный товар   \n",
       "1                                     Запустить собственную службу доставки, что сократит срок доставки заказов   \n",
       "5                      Добавить страницу отзывов клиентов о магазине, что позволит увеличить количество заказов   \n",
       "4                              Изменить цвет фона главной страницы, чтобы увеличить вовлеченность пользователей   \n",
       "\n",
       "    RICE  \n",
       "7  112.0  \n",
       "2   56.0  \n",
       "0   40.0  \n",
       "6   40.0  \n",
       "8   16.2  \n",
       "3    9.0  \n",
       "1    4.0  \n",
       "5    4.0  \n",
       "4    3.0  "
      ]
     },
     "execution_count": 20,
     "metadata": {},
     "output_type": "execute_result"
    }
   ],
   "source": [
    "hypothesis[['Hypothesis', 'RICE']].sort_values(by='RICE', ascending=False)"
   ]
  },
  {
   "cell_type": "code",
   "execution_count": 21,
   "metadata": {},
   "outputs": [
    {
     "data": {
      "text/html": [
       "<div>\n",
       "<style scoped>\n",
       "    .dataframe tbody tr th:only-of-type {\n",
       "        vertical-align: middle;\n",
       "    }\n",
       "\n",
       "    .dataframe tbody tr th {\n",
       "        vertical-align: top;\n",
       "    }\n",
       "\n",
       "    .dataframe thead th {\n",
       "        text-align: right;\n",
       "    }\n",
       "</style>\n",
       "<table border=\"1\" class=\"dataframe\">\n",
       "  <thead>\n",
       "    <tr style=\"text-align: right;\">\n",
       "      <th></th>\n",
       "      <th>Hypothesis</th>\n",
       "      <th>Reach</th>\n",
       "      <th>Impact</th>\n",
       "      <th>Confidence</th>\n",
       "      <th>Efforts</th>\n",
       "      <th>ICE</th>\n",
       "      <th>RICE</th>\n",
       "    </tr>\n",
       "  </thead>\n",
       "  <tbody>\n",
       "    <tr>\n",
       "      <th>0</th>\n",
       "      <td>Добавить два новых канала привлечения трафика, что позволит привлекать на 30% больше пользователей</td>\n",
       "      <td>3</td>\n",
       "      <td>10</td>\n",
       "      <td>8</td>\n",
       "      <td>6</td>\n",
       "      <td>13.333333</td>\n",
       "      <td>40.0</td>\n",
       "    </tr>\n",
       "    <tr>\n",
       "      <th>1</th>\n",
       "      <td>Запустить собственную службу доставки, что сократит срок доставки заказов</td>\n",
       "      <td>2</td>\n",
       "      <td>5</td>\n",
       "      <td>4</td>\n",
       "      <td>10</td>\n",
       "      <td>2.000000</td>\n",
       "      <td>4.0</td>\n",
       "    </tr>\n",
       "    <tr>\n",
       "      <th>2</th>\n",
       "      <td>Добавить блоки рекомендаций товаров на сайт интернет магазина, чтобы повысить конверсию и средний чек заказа</td>\n",
       "      <td>8</td>\n",
       "      <td>3</td>\n",
       "      <td>7</td>\n",
       "      <td>3</td>\n",
       "      <td>7.000000</td>\n",
       "      <td>56.0</td>\n",
       "    </tr>\n",
       "    <tr>\n",
       "      <th>3</th>\n",
       "      <td>Изменить структура категорий, что увеличит конверсию, т.к. пользователи быстрее найдут нужный товар</td>\n",
       "      <td>8</td>\n",
       "      <td>3</td>\n",
       "      <td>3</td>\n",
       "      <td>8</td>\n",
       "      <td>1.125000</td>\n",
       "      <td>9.0</td>\n",
       "    </tr>\n",
       "    <tr>\n",
       "      <th>4</th>\n",
       "      <td>Изменить цвет фона главной страницы, чтобы увеличить вовлеченность пользователей</td>\n",
       "      <td>3</td>\n",
       "      <td>1</td>\n",
       "      <td>1</td>\n",
       "      <td>1</td>\n",
       "      <td>1.000000</td>\n",
       "      <td>3.0</td>\n",
       "    </tr>\n",
       "    <tr>\n",
       "      <th>5</th>\n",
       "      <td>Добавить страницу отзывов клиентов о магазине, что позволит увеличить количество заказов</td>\n",
       "      <td>3</td>\n",
       "      <td>2</td>\n",
       "      <td>2</td>\n",
       "      <td>3</td>\n",
       "      <td>1.333333</td>\n",
       "      <td>4.0</td>\n",
       "    </tr>\n",
       "    <tr>\n",
       "      <th>6</th>\n",
       "      <td>Показать на главной странице баннеры с актуальными акциями и распродажами, чтобы увеличить конверсию</td>\n",
       "      <td>5</td>\n",
       "      <td>3</td>\n",
       "      <td>8</td>\n",
       "      <td>3</td>\n",
       "      <td>8.000000</td>\n",
       "      <td>40.0</td>\n",
       "    </tr>\n",
       "    <tr>\n",
       "      <th>7</th>\n",
       "      <td>Добавить форму подписки на все основные страницы, чтобы собрать базу клиентов для email-рассылок</td>\n",
       "      <td>10</td>\n",
       "      <td>7</td>\n",
       "      <td>8</td>\n",
       "      <td>5</td>\n",
       "      <td>11.200000</td>\n",
       "      <td>112.0</td>\n",
       "    </tr>\n",
       "    <tr>\n",
       "      <th>8</th>\n",
       "      <td>Запустить акцию, дающую скидку на товар в день рождения</td>\n",
       "      <td>1</td>\n",
       "      <td>9</td>\n",
       "      <td>9</td>\n",
       "      <td>5</td>\n",
       "      <td>16.200000</td>\n",
       "      <td>16.2</td>\n",
       "    </tr>\n",
       "  </tbody>\n",
       "</table>\n",
       "</div>"
      ],
      "text/plain": [
       "                                                                                                     Hypothesis  \\\n",
       "0            Добавить два новых канала привлечения трафика, что позволит привлекать на 30% больше пользователей   \n",
       "1                                     Запустить собственную службу доставки, что сократит срок доставки заказов   \n",
       "2  Добавить блоки рекомендаций товаров на сайт интернет магазина, чтобы повысить конверсию и средний чек заказа   \n",
       "3           Изменить структура категорий, что увеличит конверсию, т.к. пользователи быстрее найдут нужный товар   \n",
       "4                              Изменить цвет фона главной страницы, чтобы увеличить вовлеченность пользователей   \n",
       "5                      Добавить страницу отзывов клиентов о магазине, что позволит увеличить количество заказов   \n",
       "6          Показать на главной странице баннеры с актуальными акциями и распродажами, чтобы увеличить конверсию   \n",
       "7              Добавить форму подписки на все основные страницы, чтобы собрать базу клиентов для email-рассылок   \n",
       "8                                                       Запустить акцию, дающую скидку на товар в день рождения   \n",
       "\n",
       "   Reach  Impact  Confidence  Efforts        ICE   RICE  \n",
       "0      3      10           8        6  13.333333   40.0  \n",
       "1      2       5           4       10   2.000000    4.0  \n",
       "2      8       3           7        3   7.000000   56.0  \n",
       "3      8       3           3        8   1.125000    9.0  \n",
       "4      3       1           1        1   1.000000    3.0  \n",
       "5      3       2           2        3   1.333333    4.0  \n",
       "6      5       3           8        3   8.000000   40.0  \n",
       "7     10       7           8        5  11.200000  112.0  \n",
       "8      1       9           9        5  16.200000   16.2  "
      ]
     },
     "execution_count": 21,
     "metadata": {},
     "output_type": "execute_result"
    }
   ],
   "source": [
    "hypothesis #вывожу таблицу для анализа "
   ]
  },
  {
   "cell_type": "code",
   "execution_count": 22,
   "metadata": {},
   "outputs": [
    {
     "data": {
      "image/png": "[encoded data removed]",
      "text/plain": [
       "<Figure size 360x360 with 1 Axes>"
      ]
     },
     "metadata": {
      "needs_background": "light"
     },
     "output_type": "display_data"
    },
    {
     "data": {
      "image/png": "[encoded data removed]",
      "text/plain": [
       "<Figure size 360x360 with 1 Axes>"
      ]
     },
     "metadata": {
      "needs_background": "light"
     },
     "output_type": "display_data"
    }
   ],
   "source": [
    "#строю график для наглядности\n",
    "\n",
    "bar_colors = ['red', 'blue', 'brown', 'orange', 'green', 'pink']\n",
    "hypothesis['ICE'].plot(kind='bar', grid=True, figsize=(5,5), color=bar_colors)\n",
    "plt.show()\n",
    "hypothesis['RICE'].plot(kind='bar', grid=True, figsize=(5,5), color=bar_colors)\n",
    "plt.show()"
   ]
  },
  {
   "cell_type": "markdown",
   "metadata": {},
   "source": [
    "**Вывод**\n",
    "<p></p>\n",
    "<div style=\"border:solid green 2px; padding: 20px\">\n",
    "<p></p> Вэтом выводе я буду использовать порядковый номер из датафрейма hypothesis для обозначения гипотез. Наиболее перспективные гипотезы по ICE: 8, 0, 7. По RICE: 7 ,2, 0, 6.<p></p> 8 гипотеза (Запустить акцию, дающую скидку на товар в день рождения) хороша, но охват очень маленький, всего на единицу. Охват и повлиял на разницу в приоритезации ICE и RICE.<p></p> 0 гипотеза (Добавить два новых канала привлечения трафика, что позволит привлекать на 30% больше пользователей) стоит отдельного внимания. Impact 10 баллов! Хотя охват пользователей небольшой, но зато влияние обновление окажет на всех.<p></p> 7 гипотеза (Добавить форму подписки на все основные страницы, чтобы собрать базу клиентов для email-рассылок) однозначно в приоритете. Подписаться сможет каждый, и для всех подписанных будет рассылка. "
   ]
  },
  {
   "cell_type": "markdown",
   "metadata": {},
   "source": [
    "### Часть 2. Анализ A/B-теста."
   ]
  },
  {
   "cell_type": "code",
   "execution_count": 23,
   "metadata": {},
   "outputs": [
    {
     "data": {
      "text/plain": [
       "58"
      ]
     },
     "execution_count": 23,
     "metadata": {},
     "output_type": "execute_result"
    }
   ],
   "source": [
    "dub_v = np.intersect1d(orders.query('group == \"A\"')['visitorId'].unique(),\n",
    "orders.query('group == \"B\"')['visitorId'].unique())\n",
    "dub_v.shape[0]"
   ]
  },
  {
   "cell_type": "code",
   "execution_count": 24,
   "metadata": {},
   "outputs": [],
   "source": [
    "orders = orders.query('visitorId not in @dub_v')"
   ]
  },
  {
   "cell_type": "markdown",
   "metadata": {},
   "source": [
    "#### График кумулятивной выручки по группам."
   ]
  },
  {
   "cell_type": "code",
   "execution_count": 25,
   "metadata": {},
   "outputs": [],
   "source": [
    "datesGroups = orders[['date', 'group']].drop_duplicates()"
   ]
  },
  {
   "cell_type": "code",
   "execution_count": 26,
   "metadata": {},
   "outputs": [],
   "source": [
    "ordersAggregated = datesGroups.apply(\n",
    "    lambda x: orders[\n",
    "        np.logical_and(\n",
    "            orders['date'] <= x['date'], orders['group'] == x['group'] \n",
    "            #Получим строки таблицы orders,\n",
    "            #дата которых меньше или равна дате элемента из datesGroups, а группа теста равна группе из datesGroups\n",
    "        )\n",
    "    ].agg( #агрегируем значения\n",
    "        {\n",
    "            'date': 'max',\n",
    "            'group': 'max',\n",
    "            'transactionId': 'nunique',\n",
    "            'visitorId': 'nunique',\n",
    "            'revenue': 'sum',\n",
    "        }\n",
    "    ),\n",
    "    axis=1, #применим методы к каждой строке датафрейма с помощью apply выше\n",
    ").sort_values(by=['date', 'group']) #отсортируем результаты по столбцам 'date' и 'group'"
   ]
  },
  {
   "cell_type": "code",
   "execution_count": 27,
   "metadata": {},
   "outputs": [],
   "source": [
    "#Аналогично получим агрегированные кумулятивные по дням данные о посетителях интернет-магазина\n",
    "visitorsAggregated = datesGroups.apply(\n",
    "    lambda x: visitors[\n",
    "        np.logical_and(\n",
    "            visitors['date'] <= x['date'], visitors['group'] == x['group']\n",
    "        )\n",
    "    ].agg(\n",
    "        {\n",
    "            'date': 'max', \n",
    "            'group': 'max', \n",
    "            'visitors': 'sum',\n",
    "        }\n",
    "    ),\n",
    "    axis=1,\n",
    ").sort_values(by=['date', 'group'])"
   ]
  },
  {
   "cell_type": "code",
   "execution_count": 28,
   "metadata": {},
   "outputs": [],
   "source": [
    "#Объединим обе таблицы в одну с понятными названиями столбцов\n",
    "cumulativeData = ordersAggregated.merge(\n",
    "    visitorsAggregated, left_on=['date', 'group'], right_on=['date', 'group']\n",
    ")\n",
    "cumulativeData.columns = [\n",
    "    'date',\n",
    "    'group',\n",
    "    'orders',\n",
    "    'buyers',\n",
    "    'revenue',\n",
    "    'visitors',\n",
    "]"
   ]
  },
  {
   "cell_type": "code",
   "execution_count": 29,
   "metadata": {},
   "outputs": [
    {
     "data": {
      "text/html": [
       "<div>\n",
       "<style scoped>\n",
       "    .dataframe tbody tr th:only-of-type {\n",
       "        vertical-align: middle;\n",
       "    }\n",
       "\n",
       "    .dataframe tbody tr th {\n",
       "        vertical-align: top;\n",
       "    }\n",
       "\n",
       "    .dataframe thead th {\n",
       "        text-align: right;\n",
       "    }\n",
       "</style>\n",
       "<table border=\"1\" class=\"dataframe\">\n",
       "  <thead>\n",
       "    <tr style=\"text-align: right;\">\n",
       "      <th></th>\n",
       "      <th>date</th>\n",
       "      <th>group</th>\n",
       "      <th>orders</th>\n",
       "      <th>buyers</th>\n",
       "      <th>revenue</th>\n",
       "      <th>visitors</th>\n",
       "    </tr>\n",
       "  </thead>\n",
       "  <tbody>\n",
       "    <tr>\n",
       "      <th>0</th>\n",
       "      <td>2019-08-01</td>\n",
       "      <td>A</td>\n",
       "      <td>23</td>\n",
       "      <td>19</td>\n",
       "      <td>142779</td>\n",
       "      <td>719</td>\n",
       "    </tr>\n",
       "    <tr>\n",
       "      <th>1</th>\n",
       "      <td>2019-08-01</td>\n",
       "      <td>B</td>\n",
       "      <td>17</td>\n",
       "      <td>17</td>\n",
       "      <td>59758</td>\n",
       "      <td>713</td>\n",
       "    </tr>\n",
       "    <tr>\n",
       "      <th>2</th>\n",
       "      <td>2019-08-02</td>\n",
       "      <td>A</td>\n",
       "      <td>42</td>\n",
       "      <td>36</td>\n",
       "      <td>234381</td>\n",
       "      <td>1338</td>\n",
       "    </tr>\n",
       "    <tr>\n",
       "      <th>3</th>\n",
       "      <td>2019-08-02</td>\n",
       "      <td>B</td>\n",
       "      <td>40</td>\n",
       "      <td>39</td>\n",
       "      <td>221801</td>\n",
       "      <td>1294</td>\n",
       "    </tr>\n",
       "    <tr>\n",
       "      <th>4</th>\n",
       "      <td>2019-08-03</td>\n",
       "      <td>A</td>\n",
       "      <td>66</td>\n",
       "      <td>60</td>\n",
       "      <td>346854</td>\n",
       "      <td>1845</td>\n",
       "    </tr>\n",
       "  </tbody>\n",
       "</table>\n",
       "</div>"
      ],
      "text/plain": [
       "        date group  orders  buyers  revenue  visitors\n",
       "0 2019-08-01     A      23      19   142779       719\n",
       "1 2019-08-01     B      17      17    59758       713\n",
       "2 2019-08-02     A      42      36   234381      1338\n",
       "3 2019-08-02     B      40      39   221801      1294\n",
       "4 2019-08-03     A      66      60   346854      1845"
      ]
     },
     "execution_count": 29,
     "metadata": {},
     "output_type": "execute_result"
    }
   ],
   "source": [
    "cumulativeData.head(5)"
   ]
  },
  {
   "cell_type": "code",
   "execution_count": 30,
   "metadata": {},
   "outputs": [
    {
     "data": {
      "image/png": "[encoded data removed]",
      "text/plain": [
       "<Figure size 936x576 with 1 Axes>"
      ]
     },
     "metadata": {
      "needs_background": "light"
     },
     "output_type": "display_data"
    }
   ],
   "source": [
    "#строию график\n",
    "# датафрейм с кумулятивным количеством заказов и кумулятивной выручкой по дням в группе А\n",
    "cumulativeRevenueA = cumulativeData[cumulativeData['group']=='A'][['date','revenue', 'orders']]\n",
    "\n",
    "# датафрейм с кумулятивным количеством заказов и кумулятивной выручкой по дням в группе B\n",
    "cumulativeRevenueB = cumulativeData[cumulativeData['group']=='B'][['date','revenue', 'orders']]\n",
    "\n",
    "fig, ax = plt.subplots(figsize=(13, 8))\n",
    "                       \n",
    "# Строим график выручки группы А\n",
    "plt.plot(cumulativeRevenueA['date'], cumulativeRevenueA['revenue'], label='A', color='#FF1493')\n",
    "\n",
    "# Строим график выручки группы B\n",
    "plt.plot(cumulativeRevenueB['date'], cumulativeRevenueB['revenue'], label='B', color='#1E90FF')\n",
    "\n",
    "\n",
    "plt.xticks(rotation=45, fontsize='15', color='#2F4F4F')\n",
    "plt.yticks(fontsize='15', color='#2F4F4F')\n",
    "plt.gca().xaxis.set_major_locator(plt.MultipleLocator(3))\n",
    "plt.ylabel('Выручка', fontsize='15', color='#2F4F4F')\n",
    "plt.grid()\n",
    "plt.legend(loc='lower right', fontsize=30) \n",
    "plt.title('График кумулятивной выручки по группам', fontsize=20, color = '#8A2BE2');"
   ]
  },
  {
   "cell_type": "markdown",
   "metadata": {},
   "source": [
    "**Вывод**\n",
    "<p></p>\n",
    "<div style=\"border:solid green 2px; padding: 20px\">\n",
    "<p></p> Выручка в обеих группах растёт. В группе В выручка стабильно выше, чем в группе А. Особенно большой скачок в группе В на 19й день, после чего рост продолжался. Это может сигнализировать о всплесках числа заказов, либо о появлении очень дорогих заказов в выборке. В группе А скачков роста нет."
   ]
  },
  {
   "cell_type": "markdown",
   "metadata": {},
   "source": [
    "#### График кумулятивного среднего чека по группам."
   ]
  },
  {
   "cell_type": "code",
   "execution_count": 31,
   "metadata": {},
   "outputs": [
    {
     "data": {
      "image/png": "[encoded data removed]",
      "text/plain": [
       "<Figure size 936x576 with 1 Axes>"
      ]
     },
     "metadata": {
      "needs_background": "light"
     },
     "output_type": "display_data"
    }
   ],
   "source": [
    "fig, ax = plt.subplots(figsize=(13, 8))\n",
    "\n",
    "# Строим график среднего чека группы А\n",
    "plt.plot(cumulativeRevenueA['date'], cumulativeRevenueA['revenue']/cumulativeRevenueA['orders'], label='A', color='#FF1493')\n",
    "\n",
    "# Строим график среднего чека группы B\n",
    "plt.plot(cumulativeRevenueB['date'], cumulativeRevenueB['revenue']/cumulativeRevenueB['orders'], label='B', color='#1E90FF')\n",
    "\n",
    "plt.xticks(rotation=45, fontsize='15', color='#2F4F4F')\n",
    "plt.yticks(fontsize='15', color='#2F4F4F')\n",
    "plt.gca().xaxis.set_major_locator(plt.MultipleLocator(3))\n",
    "plt.ylabel('Средний чек', fontsize='15', color='#2F4F4F')\n",
    "plt.grid()\n",
    "plt.legend(loc='lower right', fontsize=30) \n",
    "plt.title('График кумулятивного среднего чека по группам', fontsize=20, color = '#8A2BE2');"
   ]
  },
  {
   "cell_type": "markdown",
   "metadata": {},
   "source": [
    "**Вывод**\n",
    "<p></p>\n",
    "<div style=\"border:solid green 2px; padding: 20px\">\n",
    "<p></p> Линии практически зеркальны. В группе А сильный провал на 6 день, но на 13й день скачек среднего чека, благодаря чему он выше, чем в группе В. На 19й день средний чек резко вырос в группе В. Это и есть причина увеличения выручки в этой группе."
   ]
  },
  {
   "cell_type": "markdown",
   "metadata": {},
   "source": [
    "#### График относительного изменения кумулятивного среднего чека группы B к группе A."
   ]
  },
  {
   "cell_type": "code",
   "execution_count": 32,
   "metadata": {},
   "outputs": [
    {
     "data": {
      "image/png": "[encoded data removed]",
      "text/plain": [
       "<Figure size 936x576 with 1 Axes>"
      ]
     },
     "metadata": {
      "needs_background": "light"
     },
     "output_type": "display_data"
    }
   ],
   "source": [
    "fig, ax = plt.subplots(figsize=(13, 8))\n",
    "\n",
    "# собираем данные в одном датафрейме\n",
    "mergedCumulativeRevenue = cumulativeRevenueA.merge(cumulativeRevenueB, left_on='date', right_on='date',\n",
    "                                                   how='left', suffixes=['A', 'B'])\n",
    "\n",
    "# cтроим отношение средних чеков\n",
    "plt.plot(mergedCumulativeRevenue['date'], \n",
    "         (mergedCumulativeRevenue['revenueB']/mergedCumulativeRevenue['ordersB'])\n",
    "         /(mergedCumulativeRevenue['revenueA']/mergedCumulativeRevenue['ordersA'])-1, color='#DC143C')\n",
    "\n",
    "# добавляем ось X\n",
    "plt.axhline(y=0, color='black', linestyle='--') \n",
    "\n",
    "plt.xticks(rotation=45, fontsize='15', color='#2F4F4F')\n",
    "plt.yticks(fontsize='15', color='#2F4F4F')\n",
    "plt.gca().xaxis.set_major_locator(plt.MultipleLocator(3))\n",
    "plt.ylabel('Изменение среднего чека', fontsize='15', color='#2F4F4F')\n",
    "plt.grid()\n",
    "plt.title('График относительного изменения кумулятивного среднего чека группы B к группе A', fontsize=20, color = '#8A2BE2');"
   ]
  },
  {
   "cell_type": "markdown",
   "metadata": {},
   "source": [
    "**Вывод**\n",
    "<p></p>\n",
    "<div style=\"border:solid green 2px; padding: 20px\">\n",
    "<p></p> В нескольких точках график различия между сегментами резко «скачет». Как и было выше провал на 13й день, скачок роста в 19й. Где-то уж точно спрятались крупные заказы и выбросы."
   ]
  },
  {
   "cell_type": "markdown",
   "metadata": {},
   "source": [
    "#### График кумулятивного среднего количества заказов на посетителя по группам."
   ]
  },
  {
   "cell_type": "code",
   "execution_count": 33,
   "metadata": {},
   "outputs": [
    {
     "data": {
      "image/png": "[encoded data removed]",
      "text/plain": [
       "<Figure size 936x576 with 1 Axes>"
      ]
     },
     "metadata": {
      "needs_background": "light"
     },
     "output_type": "display_data"
    }
   ],
   "source": [
    "fig, ax = plt.subplots(figsize=(13, 8))\n",
    "\n",
    "# считаем кумулятивную конверсию\n",
    "cumulativeData['conversion'] = cumulativeData['orders']/cumulativeData['visitors']\n",
    "\n",
    "# отделяем данные по группе A\n",
    "cumulativeDataA = cumulativeData[cumulativeData['group']=='A']\n",
    "\n",
    "# отделяем данные по группе B\n",
    "cumulativeDataB = cumulativeData[cumulativeData['group']=='B']\n",
    "\n",
    "# строим графики\n",
    "plt.plot(cumulativeDataA['date'], cumulativeDataA['conversion'], label='A', color='#FF1493')\n",
    "plt.plot(cumulativeDataB['date'], cumulativeDataB['conversion'], label='B', color='#1E90FF')\n",
    "\n",
    "plt.xticks(rotation=45, fontsize='15', color='#2F4F4F')\n",
    "plt.yticks(fontsize='15', color='#2F4F4F')\n",
    "plt.gca().xaxis.set_major_locator(plt.MultipleLocator(3))\n",
    "plt.ylabel('Средний чек', fontsize='15', color='#2F4F4F')\n",
    "plt.grid()\n",
    "plt.legend(loc='lower right', fontsize=30) \n",
    "plt.ylim([0.02, 0.04])\n",
    "plt.title('График кумулятивного среднего количества заказов на посетителя по группам.', fontsize=18, color = '#8A2BE2');"
   ]
  },
  {
   "cell_type": "markdown",
   "metadata": {},
   "source": [
    "**Вывод**\n",
    "<p></p>\n",
    "<div style=\"border:solid green 2px; padding: 20px\">\n",
    "<p></p> Симметричный график получился. Группы колебались около одного значения, но затем среднее число заказов группы В вырвалась вперёд и зафиксировалась, а группы А просела и также зафиксировалась. "
   ]
  },
  {
   "cell_type": "markdown",
   "metadata": {},
   "source": [
    "#### График относительного изменения кумулятивного среднего количества заказов на посетителя группы B к группе A."
   ]
  },
  {
   "cell_type": "code",
   "execution_count": 34,
   "metadata": {},
   "outputs": [
    {
     "data": {
      "image/png": "[encoded data removed]",
      "text/plain": [
       "<Figure size 936x576 with 1 Axes>"
      ]
     },
     "metadata": {
      "needs_background": "light"
     },
     "output_type": "display_data"
    }
   ],
   "source": [
    "fig, ax = plt.subplots(figsize=(13, 8))\n",
    "mergedCumulativeConversions = cumulativeDataA[['date','conversion']]\\\n",
    "                              .merge(cumulativeDataB[['date','conversion']]\n",
    "                              ,left_on='date', right_on='date', how='left', suffixes=['A', 'B'])\n",
    "\n",
    "plt.plot(mergedCumulativeConversions['date'], mergedCumulativeConversions['conversionB']\n",
    "         /mergedCumulativeConversions['conversionA']-1, color='#DC143C')\n",
    "\n",
    "plt.axhline(y=0, color='black', linestyle='--')\n",
    "plt.axhline(y=-0.05, color='grey', linestyle='--')\n",
    "\n",
    "plt.xticks(rotation=45, fontsize='15', color='#2F4F4F')\n",
    "plt.yticks(fontsize='15', color='#2F4F4F')\n",
    "plt.gca().xaxis.set_major_locator(plt.MultipleLocator(3))\n",
    "plt.ylabel('Средний чек', fontsize='15', color='#2F4F4F')\n",
    "plt.grid() \n",
    "plt.title('График относительного изменения кумулятивного среднего количества заказов на посетителя группы B к группе A.',\n",
    "          fontsize=13, color = '#8A2BE2');"
   ]
  },
  {
   "cell_type": "markdown",
   "metadata": {},
   "source": [
    "**Вывод**\n",
    "<p></p>\n",
    "<div style=\"border:solid green 2px; padding: 20px\">\n",
    "<p></p> В начале теста группа B после резкого скачка стала значительно проигрывать группе A, затем вырвалась вперёд. Потом её конверсия только нарастала, но теперь постепенно падает."
   ]
  },
  {
   "cell_type": "markdown",
   "metadata": {},
   "source": [
    "#### Точечный график количества заказов по пользователям."
   ]
  },
  {
   "cell_type": "code",
   "execution_count": 35,
   "metadata": {},
   "outputs": [],
   "source": [
    "#сгруппировала по пользователям и отобрала количество уникальных заазов для каждого\n",
    "ordersByUsers = (\n",
    "    orders.groupby('visitorId', as_index=False)\n",
    "    .agg({'transactionId': 'nunique'})\n",
    ")\n",
    "\n",
    "ordersByUsers.columns = ['visitorId', 'orders']"
   ]
  },
  {
   "cell_type": "code",
   "execution_count": 36,
   "metadata": {},
   "outputs": [
    {
     "data": {
      "image/png": "[encoded data removed]",
      "text/plain": [
       "<Figure size 1080x504 with 1 Axes>"
      ]
     },
     "metadata": {
      "needs_background": "light"
     },
     "output_type": "display_data"
    }
   ],
   "source": [
    "#по ранжированному списку строю график\n",
    "x_values = pd.Series(range(0,len(ordersByUsers)))\n",
    "\n",
    "fig, ax = plt.subplots(figsize=(15, 7))\n",
    "\n",
    "plt.scatter(x_values, ordersByUsers['orders'], color='#DC143C')\n",
    "\n",
    "plt.xticks(fontsize='15', color='#2F4F4F')\n",
    "plt.yticks(fontsize='15', color='#2F4F4F')\n",
    "plt.gca().xaxis.set_major_locator(plt.MultipleLocator(100))\n",
    "plt.xlabel('Пользователи', fontsize='15', color='#2F4F4F')\n",
    "plt.ylabel('Количество заказов', fontsize='15', color='#2F4F4F')\n",
    "plt.grid() \n",
    "plt.title('График количества заказов по пользователям.',\n",
    "          fontsize=13, color = '#8A2BE2');"
   ]
  },
  {
   "cell_type": "markdown",
   "metadata": {},
   "source": [
    "**Вывод**\n",
    "<p></p>\n",
    "<div style=\"border:solid green 2px; padding: 20px\">\n",
    "<p></p> Выбросы нет. У некоторых пользователей по 3 заказа максимум. В большинстве своем конечно по 1 заказу."
   ]
  },
  {
   "cell_type": "markdown",
   "metadata": {},
   "source": [
    "#### 95-й и 99-й перцентили количества заказов на пользователя."
   ]
  },
  {
   "cell_type": "code",
   "execution_count": 37,
   "metadata": {},
   "outputs": [
    {
     "data": {
      "text/plain": [
       "array([1., 2.])"
      ]
     },
     "execution_count": 37,
     "metadata": {},
     "output_type": "execute_result"
    }
   ],
   "source": [
    "np.percentile(ordersByUsers['orders'], [95, 99])"
   ]
  },
  {
   "cell_type": "markdown",
   "metadata": {},
   "source": [
    "**Вывод**\n",
    "<p></p>\n",
    "<div style=\"border:solid green 2px; padding: 20px\">\n",
    "<p></p> Не более 5% пользователей заказывают больше 1 заказа. Не более 1% больше 2. Предлагаю здесь ничего не удалять."
   ]
  },
  {
   "cell_type": "markdown",
   "metadata": {},
   "source": [
    "#### Точечный график стоимостей заказов."
   ]
  },
  {
   "cell_type": "code",
   "execution_count": 38,
   "metadata": {},
   "outputs": [
    {
     "data": {
      "image/png": "[encoded data removed]",
      "text/plain": [
       "<Figure size 1080x504 with 1 Axes>"
      ]
     },
     "metadata": {
      "needs_background": "light"
     },
     "output_type": "display_data"
    }
   ],
   "source": [
    "#по ранжированному списку строю график\n",
    "x_values = pd.Series(range(0,len(orders['revenue'])))\n",
    "\n",
    "fig, ax = plt.subplots(figsize=(15, 7))\n",
    "\n",
    "plt.scatter(x_values, orders['revenue'], color='#DC143C')\n",
    "\n",
    "plt.xticks(fontsize='15', color='#2F4F4F')\n",
    "plt.yticks(fontsize='15', color='#2F4F4F')\n",
    "plt.gca().xaxis.set_major_locator(plt.MultipleLocator(100))\n",
    "plt.xlabel('Заказы', fontsize='15', color='#2F4F4F')\n",
    "plt.ylabel('Стоимость заказов', fontsize='15', color='#2F4F4F')\n",
    "plt.ylim([0.02e6, 0.25e6])\n",
    "plt.grid() \n",
    "plt.title('График стоимостей заказов.',\n",
    "          fontsize=13, color = '#8A2BE2');"
   ]
  },
  {
   "cell_type": "markdown",
   "metadata": {},
   "source": [
    "#### 95-й и 99-й перцентили  стоимостей заказов."
   ]
  },
  {
   "cell_type": "code",
   "execution_count": 39,
   "metadata": {},
   "outputs": [
    {
     "data": {
      "text/plain": [
       "array([26785., 53904.])"
      ]
     },
     "execution_count": 39,
     "metadata": {},
     "output_type": "execute_result"
    }
   ],
   "source": [
    "perc = np.percentile(orders['revenue'], [95, 99])\n",
    "perc"
   ]
  },
  {
   "cell_type": "markdown",
   "metadata": {},
   "source": [
    "**Вывод**\n",
    "<p></p>\n",
    "<div style=\"border:solid green 2px; padding: 20px\">\n",
    "<p></p> Не более 5% заказов дороже 26785. Не более 1% дороже 53904. Предлагаю считать выбросами стоимость начиная с 26785 за заказ и удалить их."
   ]
  },
  {
   "cell_type": "markdown",
   "metadata": {},
   "source": [
    "#### Статистическая значимость различий в среднем количестве заказов на посетителя между группами по «сырым» данным."
   ]
  },
  {
   "cell_type": "markdown",
   "metadata": {},
   "source": [
    "<p></p>\n",
    "\n",
    "<div style=\"border:solid black 1px; padding: 20px\">Сформулируем гипотезы. Нулевая: различий в среднем количестве заказов между группами нет. Альтернативная: различия в среднем между группами есть.</div>\n",
    "\n",
    "<p></p>"
   ]
  },
  {
   "cell_type": "code",
   "execution_count": 40,
   "metadata": {},
   "outputs": [],
   "source": [
    "#сгруппировала по пользователям в каждой группе и отобрала количество уникальных заазов для каждого\n",
    "ordersByUsersA = (\n",
    "    orders[orders['group'] == 'A']\n",
    "    .groupby('visitorId', as_index=False)\n",
    "    .agg({'transactionId': pd.Series.nunique})\n",
    ")\n",
    "ordersByUsersA.columns = ['visitorId', 'orders']\n",
    "\n",
    "ordersByUsersB = (\n",
    "    orders[orders['group'] == 'B']\n",
    "    .groupby('visitorId', as_index=False)\n",
    "    .agg({'transactionId': pd.Series.nunique})\n",
    ")\n",
    "ordersByUsersB.columns = ['visitorId', 'orders'] "
   ]
  },
  {
   "cell_type": "code",
   "execution_count": 41,
   "metadata": {},
   "outputs": [],
   "source": [
    "#Объявим переменные sampleA и sampleB, в которых пользователям из разных групп будет соответствовать количество заказов\n",
    "sampleA = pd.concat([ordersByUsersA['orders'],pd.Series(\n",
    "    0, index=np.arange(visitors[visitors['group'] == 'A']['visitors'].sum() - len(ordersByUsersA['orders'])),\n",
    "    name='orders')],axis=0)\n",
    "\n",
    "sampleB = pd.concat([ordersByUsersB['orders'],pd.Series(\n",
    "    0, index=np.arange(visitors[visitors['group'] == 'B']['visitors'].sum() - len(ordersByUsersB['orders'])),\n",
    "    name='orders')],axis=0)"
   ]
  },
  {
   "cell_type": "code",
   "execution_count": 42,
   "metadata": {},
   "outputs": [
    {
     "name": "stdout",
     "output_type": "stream",
     "text": [
      "P-value: 0.011\n",
      "Относительная разница: 0.160\n"
     ]
    }
   ],
   "source": [
    "#Применим критерий mannwhitneyu и отформатируем p-value, округлив его до трёх знаков после запятой\n",
    "print('P-value:',\"{0:.3f}\".format(stats.mannwhitneyu(sampleA, sampleB)[1]))\n",
    "\n",
    "print('Относительная разница:',\"{0:.3f}\".format(sampleB.mean() / sampleA.mean() - 1))"
   ]
  },
  {
   "cell_type": "markdown",
   "metadata": {},
   "source": [
    "**Вывод**\n",
    "<p></p>\n",
    "<div style=\"border:solid green 2px; padding: 20px\"> \n",
    "<p></p> P-value значительно меньше 0.05. Значит, можно отвергнуть нулевую гипотезу и считать, что в среднем количестве заказов на посетителя есть различия.\n",
    "Относительные различия в 16%. То есть проверяемая А\\В тестом гипотеза хорошо повлияла на количество заказов."
   ]
  },
  {
   "cell_type": "markdown",
   "metadata": {},
   "source": [
    "#### Статистическая значимость различий в среднем чеке заказа между группами по «сырым» данным."
   ]
  },
  {
   "cell_type": "markdown",
   "metadata": {},
   "source": [
    "<p></p>\n",
    "\n",
    "<div style=\"border:solid black 1px; padding: 20px\"> Нулевая гипотеза: различий в среднем чеке между группами нет. Альтернативная гипотеза: различия в среднем чеке между группами есть. </div>\n",
    "<p></p>"
   ]
  },
  {
   "cell_type": "code",
   "execution_count": 43,
   "metadata": {},
   "outputs": [
    {
     "name": "stdout",
     "output_type": "stream",
     "text": [
      "P-value: 0.829\n",
      "Относительная разница: 0.287\n"
     ]
    }
   ],
   "source": [
    "print('P-value:','{0:.3f}'.format(stats.mannwhitneyu(orders[orders['group']=='A']['revenue'],\n",
    "                                          orders[orders['group']=='B']['revenue'])[1]))\n",
    "print('Относительная разница:','{0:.3f}'.format(orders[orders['group']=='B']['revenue']\n",
    "                       .mean()/orders[orders['group']=='A']['revenue'].mean()-1))"
   ]
  },
  {
   "cell_type": "markdown",
   "metadata": {},
   "source": [
    "**Вывод**\n",
    "<p></p>\n",
    "<div style=\"border:solid green 2px; padding: 20px\">\n",
    "<p></p>  P-value значительно больше 0.05. Значит, нельзя отвергнуть нулевую гипотезу и нельзя считать, что в среднем чеке есть различия.\n",
    "Хотя средний чек на 28% выше у группы В. То есть проверяемая А\\В тестом гипотеза не повлияла на средний чек."
   ]
  },
  {
   "cell_type": "markdown",
   "metadata": {},
   "source": [
    "#### Статистическая значимость различий в среднем количестве заказов на посетителя между группами по «очищенным» данным. "
   ]
  },
  {
   "cell_type": "markdown",
   "metadata": {},
   "source": [
    "<p></p>\n",
    "\n",
    "<div style=\"border:solid black 1px; padding: 20px\">Сформулируем гипотезы. Нулевая: различий в среднем количестве заказов между группами нет. Альтернативная: различия в среднем между группами есть.</div>\n",
    "\n",
    "<p></p>"
   ]
  },
  {
   "cell_type": "code",
   "execution_count": 44,
   "metadata": {},
   "outputs": [
    {
     "name": "stdout",
     "output_type": "stream",
     "text": [
      "Количество аномальных значений: 982\n"
     ]
    }
   ],
   "source": [
    "#задаю параметры для очистки выбросов, считаю их количество\n",
    "usersWithManyOrders = pd.concat(\n",
    "    [\n",
    "        ordersByUsersA,\n",
    "        ordersByUsersB\n",
    "    ],\n",
    "    axis=0,\n",
    ")\n",
    "\n",
    "usersWithExpensiveOrders = orders[orders['revenue'] > perc[1]]['visitorId']\n",
    "\n",
    "abnormalUsers = pd.concat([usersWithManyOrders, usersWithExpensiveOrders], axis=0).drop_duplicates()\n",
    "\n",
    "\n",
    "print('Количество аномальных значений:', abnormalUsers.shape[0]);"
   ]
  },
  {
   "cell_type": "markdown",
   "metadata": {},
   "source": [
    "**Вывод**\n",
    "<p></p>\n",
    "<div style=\"border:solid green 2px; padding: 20px\">\n",
    "<p></p> Выбросов оказалось немного: 982 аномальных значений из 37652. P-value значительно меньше 0.05. Значит, можно отвергнуть нулевую гипотезу и считать, что в среднем количестве заказов на посетителя есть различия.\n",
    "Относительные различия в 18,5%. Значит, выбросы не повлияли на среднее количество заказов. "
   ]
  },
  {
   "cell_type": "markdown",
   "metadata": {},
   "source": [
    "#### Статистическая значимость различий в среднем чеке заказа между группами по «очищенным» данным."
   ]
  },
  {
   "cell_type": "markdown",
   "metadata": {},
   "source": [
    "<p></p>\n",
    "\n",
    "<div style=\"border:solid black 1px; padding: 20px\"> Нулевая гипотеза: различий в среднем чеке между группами нет. Альтернативная гипотеза: различия в среднем чеке между группами есть. </div>\n",
    "<p></p>"
   ]
  },
  {
   "cell_type": "code",
   "execution_count": 46,
   "metadata": {},
   "outputs": [
    {
     "name": "stdout",
     "output_type": "stream",
     "text": [
      "P-value: 0.829\n",
      "Относительная разница: 0.287\n"
     ]
    }
   ],
   "source": [
    "print('P-value:',\n",
    "    '{0:.3f}'.format(\n",
    "        stats.mannwhitneyu(\n",
    "            orders[\n",
    "                np.logical_and(\n",
    "                    orders['group'] == 'A',\n",
    "                    np.logical_not(orders['visitorId'].isin(abnormalUsers)),\n",
    "                )\n",
    "            ]['revenue'],\n",
    "            orders[\n",
    "                np.logical_and(\n",
    "                    orders['group'] == 'B',\n",
    "                    np.logical_not(orders['visitorId'].isin(abnormalUsers)),\n",
    "                )\n",
    "            ]['revenue'],\n",
    "        )[1]\n",
    "    )\n",
    ")\n",
    "\n",
    "print('Относительная разница:',\n",
    "    \"{0:.3f}\".format(\n",
    "        orders[\n",
    "            np.logical_and(\n",
    "                orders['group'] == 'B',\n",
    "                np.logical_not(orders['visitorId'].isin(abnormalUsers)),\n",
    "            )\n",
    "        ]['revenue'].mean()\n",
    "        / orders[\n",
    "            np.logical_and(\n",
    "                orders['group'] == 'A',\n",
    "                np.logical_not(orders['visitorId'].isin(abnormalUsers)),\n",
    "            )\n",
    "        ]['revenue'].mean()\n",
    "        - 1\n",
    "    )\n",
    ")"
   ]
  },
  {
   "cell_type": "markdown",
   "metadata": {},
   "source": [
    "**Вывод**\n",
    "<p></p>\n",
    "<div style=\"border:solid green 2px; padding: 20px\">\n",
    "<p></p> P-value значительно больше 0.05. Значит, нельзя отвергнуть нулевую гипотезу и нельзя считать, что в среднем чеке есть различия.\n",
    "Хотя средний чек в читсых данных стал ниже у группы В на 2,8%, чем у группы А. "
   ]
  },
  {
   "cell_type": "markdown",
   "metadata": {},
   "source": [
    "<div style=\"background: #E6E6FA; padding: 5px; border: 1px solid #778899; border-radius: 5px;\">\n",
    "    <font color='20B2AA'><b>Вот результаты решённых в этом курсе задач в сборе:</b></font>\n",
    "    <br />\n",
    "    <br />\n",
    "    <font color='778899'>  \n",
    "1) Есть статистически значимое различие по количеству заказов на посетителя между группами как по сырым данным, так и после фильтрации аномалий.<br />\n",
    "2) По сырым данным нет статистически значимого различия по среднему чеку между группами. Также после удаления аномалий статистически значимого различия нет.<br />\n",
    "3) График различия конверсии между группами сообщает, что результаты группы B лучше группы A: имеют тенденцию к росту, либо зафиксировались около среднего значения. </font><p></p>\n",
    "</div>"
   ]
  },
  {
   "cell_type": "markdown",
   "metadata": {},
   "source": [
    "<div style=\"background: #E6E6FA; padding: 5px; border: 1px solid #778899; border-radius: 5px;\">\n",
    "    <font color='20B2AA'><b>Решение по результатам теста:</b></font>\n",
    "    <br />\n",
    "    <br />\n",
    "    <font color='778899'>  Остановить тест, признать его успешным и перейти к проверке следующей гипотезы. Продолжать тест смысла нет: группа B статистически значимо лучше группы A по одной из метрик, а график конверсии говорит о фиксации результата. </font><p></p>\n",
    "</div>"
   ]
  },
  {
   "cell_type": "code",
   "execution_count": null,
   "metadata": {},
   "outputs": [],
   "source": []
  }
 ],
 "metadata": {
  "ExecuteTimeLog": [
   {
    "duration": 1275,
    "start_time": "2022-12-09T06:39:49.948Z"
   },
   {
    "duration": 248,
    "start_time": "2022-12-09T06:39:51.225Z"
   },
   {
    "duration": 0,
    "start_time": "2022-12-09T06:39:51.475Z"
   },
   {
    "duration": 0,
    "start_time": "2022-12-09T06:39:51.476Z"
   },
   {
    "duration": 0,
    "start_time": "2022-12-09T06:39:51.478Z"
   },
   {
    "duration": 0,
    "start_time": "2022-12-09T06:39:51.479Z"
   },
   {
    "duration": 0,
    "start_time": "2022-12-09T06:39:51.480Z"
   },
   {
    "duration": 0,
    "start_time": "2022-12-09T06:39:51.482Z"
   },
   {
    "duration": 115,
    "start_time": "2022-12-09T06:40:00.791Z"
   },
   {
    "duration": 11,
    "start_time": "2022-12-09T06:40:03.213Z"
   },
   {
    "duration": 11,
    "start_time": "2022-12-09T06:40:04.050Z"
   },
   {
    "duration": 10,
    "start_time": "2022-12-09T06:40:04.638Z"
   },
   {
    "duration": 7,
    "start_time": "2022-12-09T06:40:05.544Z"
   },
   {
    "duration": 5,
    "start_time": "2022-12-09T06:40:06.936Z"
   },
   {
    "duration": 6,
    "start_time": "2022-12-09T06:40:07.870Z"
   },
   {
    "duration": 3,
    "start_time": "2022-12-09T06:44:53.816Z"
   },
   {
    "duration": 78,
    "start_time": "2022-12-09T06:44:53.821Z"
   },
   {
    "duration": 10,
    "start_time": "2022-12-09T06:44:53.901Z"
   },
   {
    "duration": 28,
    "start_time": "2022-12-09T06:44:53.912Z"
   },
   {
    "duration": 27,
    "start_time": "2022-12-09T06:44:53.942Z"
   },
   {
    "duration": 19,
    "start_time": "2022-12-09T06:44:53.971Z"
   },
   {
    "duration": 31,
    "start_time": "2022-12-09T06:44:53.991Z"
   },
   {
    "duration": 20,
    "start_time": "2022-12-09T06:44:54.024Z"
   },
   {
    "duration": 26,
    "start_time": "2022-12-09T06:44:54.046Z"
   },
   {
    "duration": 14,
    "start_time": "2022-12-09T06:44:54.074Z"
   },
   {
    "duration": 12,
    "start_time": "2022-12-09T06:44:54.089Z"
   },
   {
    "duration": 15,
    "start_time": "2022-12-09T06:44:54.102Z"
   },
   {
    "duration": 5,
    "start_time": "2022-12-09T06:58:39.055Z"
   },
   {
    "duration": 8,
    "start_time": "2022-12-09T06:58:40.113Z"
   },
   {
    "duration": 11,
    "start_time": "2022-12-09T06:58:48.069Z"
   },
   {
    "duration": 4,
    "start_time": "2022-12-09T07:01:39.632Z"
   },
   {
    "duration": 10,
    "start_time": "2022-12-09T07:01:40.569Z"
   },
   {
    "duration": 4,
    "start_time": "2022-12-09T07:03:43.304Z"
   },
   {
    "duration": 8,
    "start_time": "2022-12-09T07:04:02.931Z"
   },
   {
    "duration": 9,
    "start_time": "2022-12-09T07:04:08.673Z"
   },
   {
    "duration": 9,
    "start_time": "2022-12-09T07:06:00.921Z"
   },
   {
    "duration": 3,
    "start_time": "2022-12-09T07:33:03.735Z"
   },
   {
    "duration": 84,
    "start_time": "2022-12-09T07:33:03.740Z"
   },
   {
    "duration": 10,
    "start_time": "2022-12-09T07:33:03.826Z"
   },
   {
    "duration": 15,
    "start_time": "2022-12-09T07:33:03.837Z"
   },
   {
    "duration": 13,
    "start_time": "2022-12-09T07:33:03.854Z"
   },
   {
    "duration": 10,
    "start_time": "2022-12-09T07:33:03.869Z"
   },
   {
    "duration": 14,
    "start_time": "2022-12-09T07:33:03.881Z"
   },
   {
    "duration": 15,
    "start_time": "2022-12-09T07:33:03.896Z"
   },
   {
    "duration": 10,
    "start_time": "2022-12-09T07:33:03.914Z"
   },
   {
    "duration": 13,
    "start_time": "2022-12-09T07:33:03.925Z"
   },
   {
    "duration": 7,
    "start_time": "2022-12-09T07:33:03.939Z"
   },
   {
    "duration": 11,
    "start_time": "2022-12-09T07:33:03.948Z"
   },
   {
    "duration": 7,
    "start_time": "2022-12-09T07:33:03.960Z"
   },
   {
    "duration": 11,
    "start_time": "2022-12-09T07:33:03.968Z"
   },
   {
    "duration": 7,
    "start_time": "2022-12-09T07:33:03.980Z"
   },
   {
    "duration": 17,
    "start_time": "2022-12-09T07:33:03.989Z"
   },
   {
    "duration": 18,
    "start_time": "2022-12-09T07:33:04.007Z"
   },
   {
    "duration": 8,
    "start_time": "2022-12-09T07:36:42.266Z"
   },
   {
    "duration": 438,
    "start_time": "2022-12-09T07:37:11.937Z"
   },
   {
    "duration": 452,
    "start_time": "2022-12-09T07:37:24.950Z"
   },
   {
    "duration": 12,
    "start_time": "2022-12-09T07:43:05.894Z"
   },
   {
    "duration": 9,
    "start_time": "2022-12-09T07:43:21.232Z"
   },
   {
    "duration": 9,
    "start_time": "2022-12-09T07:46:20.293Z"
   },
   {
    "duration": 251,
    "start_time": "2022-12-09T07:46:32.709Z"
   },
   {
    "duration": 325,
    "start_time": "2022-12-09T07:46:49.555Z"
   },
   {
    "duration": 255,
    "start_time": "2022-12-09T07:47:51.594Z"
   },
   {
    "duration": 250,
    "start_time": "2022-12-09T07:48:14.047Z"
   },
   {
    "duration": 111,
    "start_time": "2022-12-09T07:56:06.867Z"
   },
   {
    "duration": 107,
    "start_time": "2022-12-09T07:56:35.402Z"
   },
   {
    "duration": 54,
    "start_time": "2022-12-09T07:56:53.905Z"
   },
   {
    "duration": 149,
    "start_time": "2022-12-09T07:58:36.968Z"
   },
   {
    "duration": 156,
    "start_time": "2022-12-09T07:58:55.243Z"
   },
   {
    "duration": 313,
    "start_time": "2022-12-09T07:59:44.449Z"
   },
   {
    "duration": 229,
    "start_time": "2022-12-09T07:59:57.885Z"
   },
   {
    "duration": 801,
    "start_time": "2022-12-09T08:00:25.435Z"
   },
   {
    "duration": 12,
    "start_time": "2022-12-09T08:00:48.656Z"
   },
   {
    "duration": 234,
    "start_time": "2022-12-09T08:01:16.560Z"
   },
   {
    "duration": 1233,
    "start_time": "2022-12-11T08:13:55.247Z"
   },
   {
    "duration": 225,
    "start_time": "2022-12-11T08:13:56.482Z"
   },
   {
    "duration": 11,
    "start_time": "2022-12-11T08:13:56.708Z"
   },
   {
    "duration": 13,
    "start_time": "2022-12-11T08:13:56.721Z"
   },
   {
    "duration": 11,
    "start_time": "2022-12-11T08:13:56.735Z"
   },
   {
    "duration": 8,
    "start_time": "2022-12-11T08:13:56.747Z"
   },
   {
    "duration": 6,
    "start_time": "2022-12-11T08:13:56.757Z"
   },
   {
    "duration": 8,
    "start_time": "2022-12-11T08:13:56.764Z"
   },
   {
    "duration": 9,
    "start_time": "2022-12-11T08:13:56.773Z"
   },
   {
    "duration": 14,
    "start_time": "2022-12-11T08:13:56.784Z"
   },
   {
    "duration": 10,
    "start_time": "2022-12-11T08:13:56.799Z"
   },
   {
    "duration": 8,
    "start_time": "2022-12-11T08:13:56.810Z"
   },
   {
    "duration": 7,
    "start_time": "2022-12-11T08:13:56.819Z"
   },
   {
    "duration": 17,
    "start_time": "2022-12-11T08:13:56.827Z"
   },
   {
    "duration": 3,
    "start_time": "2022-12-11T08:13:56.845Z"
   },
   {
    "duration": 10,
    "start_time": "2022-12-11T08:13:56.850Z"
   },
   {
    "duration": 15,
    "start_time": "2022-12-11T08:13:56.862Z"
   },
   {
    "duration": 262,
    "start_time": "2022-12-11T08:13:56.878Z"
   },
   {
    "duration": 3,
    "start_time": "2022-12-11T08:18:34.692Z"
   },
   {
    "duration": 269,
    "start_time": "2022-12-11T08:19:46.022Z"
   },
   {
    "duration": 3,
    "start_time": "2022-12-11T08:27:23.724Z"
   },
   {
    "duration": 8,
    "start_time": "2022-12-11T08:30:46.953Z"
   },
   {
    "duration": 7,
    "start_time": "2022-12-11T08:30:58.861Z"
   },
   {
    "duration": 5,
    "start_time": "2022-12-11T08:32:58.527Z"
   },
   {
    "duration": 171,
    "start_time": "2022-12-11T08:34:33.821Z"
   },
   {
    "duration": 8,
    "start_time": "2022-12-11T08:36:22.517Z"
   },
   {
    "duration": 3,
    "start_time": "2022-12-11T08:39:07.731Z"
   },
   {
    "duration": 83,
    "start_time": "2022-12-11T08:39:07.735Z"
   },
   {
    "duration": 11,
    "start_time": "2022-12-11T08:39:07.819Z"
   },
   {
    "duration": 15,
    "start_time": "2022-12-11T08:39:07.832Z"
   },
   {
    "duration": 10,
    "start_time": "2022-12-11T08:39:07.848Z"
   },
   {
    "duration": 8,
    "start_time": "2022-12-11T08:39:07.859Z"
   },
   {
    "duration": 10,
    "start_time": "2022-12-11T08:39:07.869Z"
   },
   {
    "duration": 9,
    "start_time": "2022-12-11T08:39:07.881Z"
   },
   {
    "duration": 17,
    "start_time": "2022-12-11T08:39:07.900Z"
   },
   {
    "duration": 11,
    "start_time": "2022-12-11T08:39:07.918Z"
   },
   {
    "duration": 7,
    "start_time": "2022-12-11T08:39:07.930Z"
   },
   {
    "duration": 11,
    "start_time": "2022-12-11T08:39:07.939Z"
   },
   {
    "duration": 6,
    "start_time": "2022-12-11T08:39:11.644Z"
   },
   {
    "duration": 5,
    "start_time": "2022-12-11T08:39:12.513Z"
   },
   {
    "duration": 163,
    "start_time": "2022-12-11T08:41:41.114Z"
   },
   {
    "duration": 148,
    "start_time": "2022-12-11T08:44:29.530Z"
   },
   {
    "duration": 107,
    "start_time": "2022-12-11T08:50:17.234Z"
   },
   {
    "duration": 7,
    "start_time": "2022-12-11T08:51:12.921Z"
   },
   {
    "duration": 8,
    "start_time": "2022-12-11T08:51:52.322Z"
   },
   {
    "duration": 263,
    "start_time": "2022-12-11T08:56:12.487Z"
   },
   {
    "duration": 353,
    "start_time": "2022-12-11T09:03:43.724Z"
   },
   {
    "duration": 309,
    "start_time": "2022-12-11T09:03:57.875Z"
   },
   {
    "duration": 135,
    "start_time": "2022-12-11T09:04:49.631Z"
   },
   {
    "duration": 147,
    "start_time": "2022-12-11T09:05:01.363Z"
   },
   {
    "duration": 530,
    "start_time": "2022-12-11T09:05:42.097Z"
   },
   {
    "duration": 207,
    "start_time": "2022-12-11T09:12:29.470Z"
   },
   {
    "duration": 307,
    "start_time": "2022-12-11T09:13:26.839Z"
   },
   {
    "duration": 282,
    "start_time": "2022-12-11T09:17:47.327Z"
   },
   {
    "duration": 293,
    "start_time": "2022-12-11T09:18:27.753Z"
   },
   {
    "duration": 294,
    "start_time": "2022-12-11T09:19:28.392Z"
   },
   {
    "duration": 339,
    "start_time": "2022-12-11T09:21:17.300Z"
   },
   {
    "duration": 284,
    "start_time": "2022-12-11T09:21:36.253Z"
   },
   {
    "duration": 295,
    "start_time": "2022-12-11T09:21:47.739Z"
   },
   {
    "duration": 311,
    "start_time": "2022-12-11T09:22:31.004Z"
   },
   {
    "duration": 390,
    "start_time": "2022-12-11T09:23:10.604Z"
   },
   {
    "duration": 222,
    "start_time": "2022-12-11T09:26:05.525Z"
   },
   {
    "duration": 283,
    "start_time": "2022-12-11T09:26:29.134Z"
   },
   {
    "duration": 298,
    "start_time": "2022-12-11T09:27:53.847Z"
   },
   {
    "duration": 222,
    "start_time": "2022-12-11T09:28:31.199Z"
   },
   {
    "duration": 227,
    "start_time": "2022-12-11T09:30:58.376Z"
   },
   {
    "duration": 216,
    "start_time": "2022-12-11T09:31:27.527Z"
   },
   {
    "duration": 223,
    "start_time": "2022-12-11T09:31:59.046Z"
   },
   {
    "duration": 67,
    "start_time": "2022-12-11T09:33:04.391Z"
   },
   {
    "duration": 290,
    "start_time": "2022-12-11T09:33:14.538Z"
   },
   {
    "duration": 231,
    "start_time": "2022-12-11T09:41:54.709Z"
   },
   {
    "duration": 192,
    "start_time": "2022-12-11T09:42:44.807Z"
   },
   {
    "duration": 200,
    "start_time": "2022-12-11T09:42:57.399Z"
   },
   {
    "duration": 221,
    "start_time": "2022-12-11T09:43:09.729Z"
   },
   {
    "duration": 312,
    "start_time": "2022-12-11T09:43:38.411Z"
   },
   {
    "duration": 276,
    "start_time": "2022-12-11T09:43:54.509Z"
   },
   {
    "duration": 219,
    "start_time": "2022-12-11T09:44:03.620Z"
   },
   {
    "duration": 193,
    "start_time": "2022-12-11T09:44:58.153Z"
   },
   {
    "duration": 196,
    "start_time": "2022-12-11T09:45:12.784Z"
   },
   {
    "duration": 194,
    "start_time": "2022-12-11T09:45:32.324Z"
   },
   {
    "duration": 202,
    "start_time": "2022-12-11T09:46:53.269Z"
   },
   {
    "duration": 170,
    "start_time": "2022-12-11T09:47:37.507Z"
   },
   {
    "duration": 215,
    "start_time": "2022-12-11T09:48:08.963Z"
   },
   {
    "duration": 237,
    "start_time": "2022-12-11T09:48:51.852Z"
   },
   {
    "duration": 334,
    "start_time": "2022-12-11T09:49:55.696Z"
   },
   {
    "duration": 45,
    "start_time": "2022-12-11T09:50:24.046Z"
   },
   {
    "duration": 236,
    "start_time": "2022-12-11T09:50:32.615Z"
   },
   {
    "duration": 275,
    "start_time": "2022-12-11T09:55:49.825Z"
   },
   {
    "duration": 358,
    "start_time": "2022-12-11T09:58:30.919Z"
   },
   {
    "duration": 368,
    "start_time": "2022-12-11T10:02:34.638Z"
   },
   {
    "duration": 481,
    "start_time": "2022-12-11T10:04:00.614Z"
   },
   {
    "duration": 368,
    "start_time": "2022-12-11T10:04:25.411Z"
   },
   {
    "duration": 149,
    "start_time": "2022-12-11T10:39:34.473Z"
   },
   {
    "duration": 277,
    "start_time": "2022-12-11T10:44:56.273Z"
   },
   {
    "duration": 301,
    "start_time": "2022-12-11T10:50:05.437Z"
   },
   {
    "duration": 268,
    "start_time": "2022-12-11T10:50:54.708Z"
   },
   {
    "duration": 234,
    "start_time": "2022-12-11T10:51:04.245Z"
   },
   {
    "duration": 241,
    "start_time": "2022-12-11T10:51:52.436Z"
   },
   {
    "duration": 203,
    "start_time": "2022-12-11T10:52:11.636Z"
   },
   {
    "duration": 217,
    "start_time": "2022-12-11T10:52:21.088Z"
   },
   {
    "duration": 340,
    "start_time": "2022-12-11T10:52:56.167Z"
   },
   {
    "duration": 312,
    "start_time": "2022-12-11T10:54:08.748Z"
   },
   {
    "duration": 240,
    "start_time": "2022-12-11T11:05:54.101Z"
   },
   {
    "duration": 6,
    "start_time": "2022-12-11T11:14:10.882Z"
   },
   {
    "duration": 110,
    "start_time": "2022-12-11T11:14:19.729Z"
   },
   {
    "duration": 119,
    "start_time": "2022-12-11T11:15:04.472Z"
   },
   {
    "duration": 115,
    "start_time": "2022-12-11T11:15:19.697Z"
   },
   {
    "duration": 119,
    "start_time": "2022-12-11T11:15:30.442Z"
   },
   {
    "duration": 284,
    "start_time": "2022-12-11T11:15:41.046Z"
   },
   {
    "duration": 199,
    "start_time": "2022-12-11T11:18:58.866Z"
   },
   {
    "duration": 223,
    "start_time": "2022-12-11T11:19:34.666Z"
   },
   {
    "duration": 4,
    "start_time": "2022-12-11T11:21:01.524Z"
   },
   {
    "duration": 177,
    "start_time": "2022-12-11T11:25:54.052Z"
   },
   {
    "duration": 194,
    "start_time": "2022-12-11T11:26:58.709Z"
   },
   {
    "duration": 186,
    "start_time": "2022-12-11T11:30:31.028Z"
   },
   {
    "duration": 285,
    "start_time": "2022-12-11T11:31:14.519Z"
   },
   {
    "duration": 6,
    "start_time": "2022-12-11T11:33:23.191Z"
   },
   {
    "duration": 229,
    "start_time": "2022-12-11T11:34:37.975Z"
   },
   {
    "duration": 6,
    "start_time": "2022-12-11T11:34:58.682Z"
   },
   {
    "duration": 231,
    "start_time": "2022-12-11T11:35:44.096Z"
   },
   {
    "duration": 251,
    "start_time": "2022-12-11T11:35:54.627Z"
   },
   {
    "duration": 139,
    "start_time": "2022-12-11T11:36:42.232Z"
   },
   {
    "duration": 115,
    "start_time": "2022-12-11T11:37:51.596Z"
   },
   {
    "duration": 101,
    "start_time": "2022-12-11T11:38:05.442Z"
   },
   {
    "duration": 129,
    "start_time": "2022-12-11T11:38:44.186Z"
   },
   {
    "duration": 6,
    "start_time": "2022-12-11T11:41:22.964Z"
   },
   {
    "duration": 10,
    "start_time": "2022-12-11T11:44:32.732Z"
   },
   {
    "duration": 18,
    "start_time": "2022-12-11T11:46:47.704Z"
   },
   {
    "duration": 13,
    "start_time": "2022-12-11T11:47:49.597Z"
   },
   {
    "duration": 12,
    "start_time": "2022-12-11T11:47:51.369Z"
   },
   {
    "duration": 43,
    "start_time": "2022-12-11T11:51:06.206Z"
   },
   {
    "duration": 46,
    "start_time": "2022-12-11T11:51:07.108Z"
   },
   {
    "duration": 18,
    "start_time": "2022-12-11T11:51:11.960Z"
   },
   {
    "duration": 40,
    "start_time": "2022-12-11T11:52:23.743Z"
   },
   {
    "duration": 43,
    "start_time": "2022-12-11T11:52:53.144Z"
   },
   {
    "duration": 19,
    "start_time": "2022-12-11T11:52:54.042Z"
   },
   {
    "duration": 186,
    "start_time": "2022-12-11T11:55:44.740Z"
   },
   {
    "duration": 8,
    "start_time": "2022-12-11T11:57:31.712Z"
   },
   {
    "duration": 6,
    "start_time": "2022-12-11T11:58:19.455Z"
   },
   {
    "duration": 5,
    "start_time": "2022-12-11T11:58:39.138Z"
   },
   {
    "duration": 23,
    "start_time": "2022-12-11T11:59:52.695Z"
   },
   {
    "duration": 11,
    "start_time": "2022-12-11T12:01:19.266Z"
   },
   {
    "duration": 9,
    "start_time": "2022-12-11T12:04:55.549Z"
   },
   {
    "duration": 49,
    "start_time": "2022-12-11T12:06:07.112Z"
   },
   {
    "duration": 11,
    "start_time": "2022-12-11T12:10:54.730Z"
   },
   {
    "duration": 8,
    "start_time": "2022-12-11T12:11:39.194Z"
   },
   {
    "duration": 7,
    "start_time": "2022-12-11T12:15:39.064Z"
   },
   {
    "duration": 22,
    "start_time": "2022-12-11T12:15:40.338Z"
   },
   {
    "duration": 3,
    "start_time": "2022-12-11T12:16:41.861Z"
   },
   {
    "duration": 98,
    "start_time": "2022-12-11T12:16:41.866Z"
   },
   {
    "duration": 9,
    "start_time": "2022-12-11T12:16:41.966Z"
   },
   {
    "duration": 38,
    "start_time": "2022-12-11T12:16:41.976Z"
   },
   {
    "duration": 12,
    "start_time": "2022-12-11T12:16:42.016Z"
   },
   {
    "duration": 8,
    "start_time": "2022-12-11T12:16:42.030Z"
   },
   {
    "duration": 8,
    "start_time": "2022-12-11T12:16:42.040Z"
   },
   {
    "duration": 9,
    "start_time": "2022-12-11T12:16:42.049Z"
   },
   {
    "duration": 13,
    "start_time": "2022-12-11T12:16:42.059Z"
   },
   {
    "duration": 9,
    "start_time": "2022-12-11T12:16:42.073Z"
   },
   {
    "duration": 6,
    "start_time": "2022-12-11T12:16:42.084Z"
   },
   {
    "duration": 5,
    "start_time": "2022-12-11T12:16:42.097Z"
   },
   {
    "duration": 5,
    "start_time": "2022-12-11T12:16:42.103Z"
   },
   {
    "duration": 6,
    "start_time": "2022-12-11T12:16:42.110Z"
   },
   {
    "duration": 6,
    "start_time": "2022-12-11T12:16:42.118Z"
   },
   {
    "duration": 12,
    "start_time": "2022-12-11T12:16:42.125Z"
   },
   {
    "duration": 6,
    "start_time": "2022-12-11T12:16:42.138Z"
   },
   {
    "duration": 11,
    "start_time": "2022-12-11T12:16:42.145Z"
   },
   {
    "duration": 11,
    "start_time": "2022-12-11T12:16:42.157Z"
   },
   {
    "duration": 250,
    "start_time": "2022-12-11T12:16:42.169Z"
   },
   {
    "duration": 2,
    "start_time": "2022-12-11T12:16:42.421Z"
   },
   {
    "duration": 157,
    "start_time": "2022-12-11T12:16:42.425Z"
   },
   {
    "duration": 123,
    "start_time": "2022-12-11T12:16:42.584Z"
   },
   {
    "duration": 6,
    "start_time": "2022-12-11T12:16:42.709Z"
   },
   {
    "duration": 11,
    "start_time": "2022-12-11T12:16:42.717Z"
   },
   {
    "duration": 223,
    "start_time": "2022-12-11T12:16:42.729Z"
   },
   {
    "duration": 213,
    "start_time": "2022-12-11T12:16:42.953Z"
   },
   {
    "duration": 343,
    "start_time": "2022-12-11T12:16:43.168Z"
   },
   {
    "duration": 395,
    "start_time": "2022-12-11T12:16:43.515Z"
   },
   {
    "duration": 360,
    "start_time": "2022-12-11T12:16:43.912Z"
   },
   {
    "duration": 6,
    "start_time": "2022-12-11T12:16:44.274Z"
   },
   {
    "duration": 183,
    "start_time": "2022-12-11T12:16:44.282Z"
   },
   {
    "duration": 5,
    "start_time": "2022-12-11T12:16:44.466Z"
   },
   {
    "duration": 194,
    "start_time": "2022-12-11T12:16:44.472Z"
   },
   {
    "duration": 4,
    "start_time": "2022-12-11T12:16:44.668Z"
   },
   {
    "duration": 23,
    "start_time": "2022-12-11T12:16:44.674Z"
   },
   {
    "duration": 12,
    "start_time": "2022-12-11T12:16:44.699Z"
   },
   {
    "duration": 55,
    "start_time": "2022-12-11T12:16:44.713Z"
   },
   {
    "duration": 75,
    "start_time": "2022-12-11T12:16:44.770Z"
   },
   {
    "duration": 168,
    "start_time": "2022-12-11T12:16:44.847Z"
   },
   {
    "duration": 62,
    "start_time": "2022-12-11T12:16:45.017Z"
   },
   {
    "duration": 21,
    "start_time": "2022-12-11T12:16:45.081Z"
   },
   {
    "duration": 153,
    "start_time": "2022-12-11T12:16:45.104Z"
   },
   {
    "duration": 6,
    "start_time": "2022-12-11T12:16:45.259Z"
   },
   {
    "duration": 24,
    "start_time": "2022-12-11T12:16:45.266Z"
   },
   {
    "duration": 11,
    "start_time": "2022-12-11T12:16:45.297Z"
   },
   {
    "duration": 8,
    "start_time": "2022-12-11T12:16:45.309Z"
   },
   {
    "duration": 9,
    "start_time": "2022-12-11T12:16:45.318Z"
   },
   {
    "duration": 23,
    "start_time": "2022-12-11T12:16:45.328Z"
   },
   {
    "duration": 1326,
    "start_time": "2022-12-12T08:00:33.157Z"
   },
   {
    "duration": 233,
    "start_time": "2022-12-12T08:00:34.485Z"
   },
   {
    "duration": 13,
    "start_time": "2022-12-12T08:00:34.721Z"
   },
   {
    "duration": 13,
    "start_time": "2022-12-12T08:00:34.737Z"
   },
   {
    "duration": 17,
    "start_time": "2022-12-12T08:00:34.752Z"
   },
   {
    "duration": 12,
    "start_time": "2022-12-12T08:00:34.770Z"
   },
   {
    "duration": 8,
    "start_time": "2022-12-12T08:00:34.784Z"
   },
   {
    "duration": 8,
    "start_time": "2022-12-12T08:00:34.794Z"
   },
   {
    "duration": 10,
    "start_time": "2022-12-12T08:00:34.803Z"
   },
   {
    "duration": 8,
    "start_time": "2022-12-12T08:00:34.816Z"
   },
   {
    "duration": 30,
    "start_time": "2022-12-12T08:00:34.826Z"
   },
   {
    "duration": 8,
    "start_time": "2022-12-12T08:00:34.858Z"
   },
   {
    "duration": 6,
    "start_time": "2022-12-12T08:00:34.868Z"
   },
   {
    "duration": 8,
    "start_time": "2022-12-12T08:00:34.876Z"
   },
   {
    "duration": 5,
    "start_time": "2022-12-12T08:00:34.886Z"
   },
   {
    "duration": 14,
    "start_time": "2022-12-12T08:00:34.892Z"
   },
   {
    "duration": 5,
    "start_time": "2022-12-12T08:00:34.907Z"
   },
   {
    "duration": 44,
    "start_time": "2022-12-12T08:00:34.913Z"
   },
   {
    "duration": 28,
    "start_time": "2022-12-12T08:00:34.959Z"
   },
   {
    "duration": 282,
    "start_time": "2022-12-12T08:00:34.989Z"
   },
   {
    "duration": 3,
    "start_time": "2022-12-12T08:00:35.273Z"
   },
   {
    "duration": 174,
    "start_time": "2022-12-12T08:00:35.277Z"
   },
   {
    "duration": 136,
    "start_time": "2022-12-12T08:00:35.453Z"
   },
   {
    "duration": 6,
    "start_time": "2022-12-12T08:00:35.591Z"
   },
   {
    "duration": 15,
    "start_time": "2022-12-12T08:00:35.599Z"
   },
   {
    "duration": 346,
    "start_time": "2022-12-12T08:00:35.616Z"
   },
   {
    "duration": 247,
    "start_time": "2022-12-12T08:00:35.964Z"
   },
   {
    "duration": 442,
    "start_time": "2022-12-12T08:00:36.215Z"
   },
   {
    "duration": 319,
    "start_time": "2022-12-12T08:00:36.659Z"
   },
   {
    "duration": 325,
    "start_time": "2022-12-12T08:00:36.980Z"
   },
   {
    "duration": 6,
    "start_time": "2022-12-12T08:00:37.307Z"
   },
   {
    "duration": 269,
    "start_time": "2022-12-12T08:00:37.315Z"
   },
   {
    "duration": 5,
    "start_time": "2022-12-12T08:00:37.586Z"
   },
   {
    "duration": 214,
    "start_time": "2022-12-12T08:00:37.593Z"
   },
   {
    "duration": 6,
    "start_time": "2022-12-12T08:00:37.809Z"
   },
   {
    "duration": 17,
    "start_time": "2022-12-12T08:00:37.817Z"
   },
   {
    "duration": 30,
    "start_time": "2022-12-12T08:00:37.835Z"
   },
   {
    "duration": 52,
    "start_time": "2022-12-12T08:00:37.866Z"
   },
   {
    "duration": 70,
    "start_time": "2022-12-12T08:00:37.920Z"
   },
   {
    "duration": 70,
    "start_time": "2022-12-12T08:00:37.992Z"
   },
   {
    "duration": 55,
    "start_time": "2022-12-12T08:00:38.064Z"
   },
   {
    "duration": 34,
    "start_time": "2022-12-12T08:00:38.121Z"
   },
   {
    "duration": 149,
    "start_time": "2022-12-12T08:00:38.157Z"
   },
   {
    "duration": 6,
    "start_time": "2022-12-12T08:00:38.308Z"
   },
   {
    "duration": 31,
    "start_time": "2022-12-12T08:00:38.316Z"
   },
   {
    "duration": 11,
    "start_time": "2022-12-12T08:00:38.355Z"
   },
   {
    "duration": 12,
    "start_time": "2022-12-12T08:00:38.367Z"
   },
   {
    "duration": 10,
    "start_time": "2022-12-12T08:00:38.380Z"
   },
   {
    "duration": 24,
    "start_time": "2022-12-12T08:00:38.392Z"
   },
   {
    "duration": 14,
    "start_time": "2022-12-12T08:08:21.428Z"
   },
   {
    "duration": 284,
    "start_time": "2022-12-12T08:15:00.600Z"
   },
   {
    "duration": 165,
    "start_time": "2022-12-12T08:15:23.663Z"
   },
   {
    "duration": 288,
    "start_time": "2022-12-12T08:16:30.842Z"
   },
   {
    "duration": 268,
    "start_time": "2022-12-12T08:51:28.833Z"
   },
   {
    "duration": 10,
    "start_time": "2022-12-12T09:12:10.122Z"
   },
   {
    "duration": 7,
    "start_time": "2022-12-12T09:12:15.092Z"
   },
   {
    "duration": 27,
    "start_time": "2022-12-12T09:12:16.206Z"
   },
   {
    "duration": 14,
    "start_time": "2022-12-12T09:12:25.417Z"
   },
   {
    "duration": 209,
    "start_time": "2022-12-12T09:14:08.255Z"
   },
   {
    "duration": 10,
    "start_time": "2022-12-12T09:16:38.615Z"
   },
   {
    "duration": 215,
    "start_time": "2022-12-12T09:17:47.058Z"
   },
   {
    "duration": 5,
    "start_time": "2022-12-12T09:21:41.174Z"
   },
   {
    "duration": 10,
    "start_time": "2022-12-12T09:21:57.078Z"
   },
   {
    "duration": 272,
    "start_time": "2022-12-12T09:24:18.811Z"
   },
   {
    "duration": 4,
    "start_time": "2022-12-12T09:25:48.278Z"
   },
   {
    "duration": 79,
    "start_time": "2022-12-12T09:25:48.283Z"
   },
   {
    "duration": 10,
    "start_time": "2022-12-12T09:25:48.364Z"
   },
   {
    "duration": 13,
    "start_time": "2022-12-12T09:25:48.376Z"
   },
   {
    "duration": 13,
    "start_time": "2022-12-12T09:25:48.391Z"
   },
   {
    "duration": 12,
    "start_time": "2022-12-12T09:25:48.405Z"
   },
   {
    "duration": 8,
    "start_time": "2022-12-12T09:25:48.419Z"
   },
   {
    "duration": 30,
    "start_time": "2022-12-12T09:25:48.428Z"
   },
   {
    "duration": 11,
    "start_time": "2022-12-12T09:25:48.460Z"
   },
   {
    "duration": 10,
    "start_time": "2022-12-12T09:25:48.472Z"
   },
   {
    "duration": 9,
    "start_time": "2022-12-12T09:25:48.583Z"
   },
   {
    "duration": 7,
    "start_time": "2022-12-12T09:25:48.594Z"
   },
   {
    "duration": 5,
    "start_time": "2022-12-12T09:25:48.603Z"
   },
   {
    "duration": 7,
    "start_time": "2022-12-12T09:25:48.610Z"
   },
   {
    "duration": 37,
    "start_time": "2022-12-12T09:25:48.618Z"
   },
   {
    "duration": 12,
    "start_time": "2022-12-12T09:25:48.657Z"
   },
   {
    "duration": 6,
    "start_time": "2022-12-12T09:25:48.671Z"
   },
   {
    "duration": 19,
    "start_time": "2022-12-12T09:25:48.678Z"
   },
   {
    "duration": 15,
    "start_time": "2022-12-12T09:25:48.699Z"
   },
   {
    "duration": 297,
    "start_time": "2022-12-12T09:25:48.716Z"
   },
   {
    "duration": 206,
    "start_time": "2022-12-12T09:25:49.015Z"
   },
   {
    "duration": 145,
    "start_time": "2022-12-12T09:25:49.222Z"
   },
   {
    "duration": 7,
    "start_time": "2022-12-12T09:25:49.369Z"
   },
   {
    "duration": 15,
    "start_time": "2022-12-12T09:25:49.378Z"
   },
   {
    "duration": 263,
    "start_time": "2022-12-12T09:25:49.395Z"
   },
   {
    "duration": 253,
    "start_time": "2022-12-12T09:25:49.660Z"
   },
   {
    "duration": 404,
    "start_time": "2022-12-12T09:25:49.916Z"
   },
   {
    "duration": 301,
    "start_time": "2022-12-12T09:25:50.322Z"
   },
   {
    "duration": 392,
    "start_time": "2022-12-12T09:25:50.628Z"
   },
   {
    "duration": 7,
    "start_time": "2022-12-12T09:25:51.022Z"
   },
   {
    "duration": 217,
    "start_time": "2022-12-12T09:25:51.031Z"
   },
   {
    "duration": 6,
    "start_time": "2022-12-12T09:25:51.255Z"
   },
   {
    "duration": 235,
    "start_time": "2022-12-12T09:25:51.263Z"
   },
   {
    "duration": 5,
    "start_time": "2022-12-12T09:25:51.500Z"
   },
   {
    "duration": 20,
    "start_time": "2022-12-12T09:25:51.507Z"
   },
   {
    "duration": 35,
    "start_time": "2022-12-12T09:25:51.529Z"
   },
   {
    "duration": 54,
    "start_time": "2022-12-12T09:25:51.567Z"
   },
   {
    "duration": 59,
    "start_time": "2022-12-12T09:25:51.623Z"
   },
   {
    "duration": 52,
    "start_time": "2022-12-12T09:25:51.685Z"
   },
   {
    "duration": 61,
    "start_time": "2022-12-12T09:25:51.739Z"
   },
   {
    "duration": 29,
    "start_time": "2022-12-12T09:25:51.802Z"
   },
   {
    "duration": 151,
    "start_time": "2022-12-12T09:25:51.833Z"
   },
   {
    "duration": 7,
    "start_time": "2022-12-12T09:25:51.985Z"
   },
   {
    "duration": 28,
    "start_time": "2022-12-12T09:25:51.993Z"
   },
   {
    "duration": 11,
    "start_time": "2022-12-12T09:25:52.023Z"
   },
   {
    "duration": 28,
    "start_time": "2022-12-12T09:25:52.035Z"
   },
   {
    "duration": 10,
    "start_time": "2022-12-12T09:25:52.065Z"
   },
   {
    "duration": 30,
    "start_time": "2022-12-12T09:25:52.077Z"
   },
   {
    "duration": 15,
    "start_time": "2022-12-12T09:25:52.108Z"
   },
   {
    "duration": 108,
    "start_time": "2022-12-12T09:26:35.068Z"
   },
   {
    "duration": 17,
    "start_time": "2022-12-12T09:26:45.622Z"
   },
   {
    "duration": 10,
    "start_time": "2022-12-12T11:00:54.356Z"
   },
   {
    "duration": 12,
    "start_time": "2022-12-12T11:04:05.254Z"
   },
   {
    "duration": 15,
    "start_time": "2022-12-12T11:04:40.492Z"
   },
   {
    "duration": 9,
    "start_time": "2022-12-12T11:04:56.573Z"
   },
   {
    "duration": 10,
    "start_time": "2022-12-12T11:05:06.776Z"
   },
   {
    "duration": 8,
    "start_time": "2022-12-12T11:06:13.414Z"
   },
   {
    "duration": 10,
    "start_time": "2022-12-12T11:06:30.321Z"
   },
   {
    "duration": 8,
    "start_time": "2022-12-12T11:06:47.773Z"
   },
   {
    "duration": 9,
    "start_time": "2022-12-12T11:07:33.355Z"
   },
   {
    "duration": 40,
    "start_time": "2022-12-12T11:09:30.525Z"
   },
   {
    "duration": 10,
    "start_time": "2022-12-12T11:14:48.957Z"
   },
   {
    "duration": 10,
    "start_time": "2022-12-12T11:14:59.043Z"
   },
   {
    "duration": 4,
    "start_time": "2022-12-12T11:51:06.801Z"
   },
   {
    "duration": 118,
    "start_time": "2022-12-12T11:51:06.807Z"
   },
   {
    "duration": 16,
    "start_time": "2022-12-12T11:51:06.927Z"
   },
   {
    "duration": 46,
    "start_time": "2022-12-12T11:51:06.945Z"
   },
   {
    "duration": 25,
    "start_time": "2022-12-12T11:51:06.994Z"
   },
   {
    "duration": 38,
    "start_time": "2022-12-12T11:51:07.021Z"
   },
   {
    "duration": 41,
    "start_time": "2022-12-12T11:51:07.061Z"
   },
   {
    "duration": 41,
    "start_time": "2022-12-12T11:51:07.104Z"
   },
   {
    "duration": 23,
    "start_time": "2022-12-12T11:51:07.147Z"
   },
   {
    "duration": 23,
    "start_time": "2022-12-12T11:51:07.171Z"
   },
   {
    "duration": 34,
    "start_time": "2022-12-12T11:51:07.197Z"
   },
   {
    "duration": 20,
    "start_time": "2022-12-12T11:51:07.233Z"
   },
   {
    "duration": 18,
    "start_time": "2022-12-12T11:51:07.254Z"
   },
   {
    "duration": 35,
    "start_time": "2022-12-12T11:51:07.274Z"
   },
   {
    "duration": 20,
    "start_time": "2022-12-12T11:51:07.311Z"
   },
   {
    "duration": 45,
    "start_time": "2022-12-12T11:51:07.333Z"
   },
   {
    "duration": 25,
    "start_time": "2022-12-12T11:51:07.380Z"
   },
   {
    "duration": 48,
    "start_time": "2022-12-12T11:51:07.406Z"
   },
   {
    "duration": 24,
    "start_time": "2022-12-12T11:51:07.456Z"
   },
   {
    "duration": 418,
    "start_time": "2022-12-12T11:51:07.482Z"
   },
   {
    "duration": 180,
    "start_time": "2022-12-12T11:51:07.902Z"
   },
   {
    "duration": 155,
    "start_time": "2022-12-12T11:51:08.083Z"
   },
   {
    "duration": 18,
    "start_time": "2022-12-12T11:51:08.241Z"
   },
   {
    "duration": 17,
    "start_time": "2022-12-12T11:51:08.261Z"
   },
   {
    "duration": 275,
    "start_time": "2022-12-12T11:51:08.280Z"
   },
   {
    "duration": 265,
    "start_time": "2022-12-12T11:51:08.557Z"
   },
   {
    "duration": 411,
    "start_time": "2022-12-12T11:51:08.824Z"
   },
   {
    "duration": 297,
    "start_time": "2022-12-12T11:51:09.237Z"
   },
   {
    "duration": 389,
    "start_time": "2022-12-12T11:51:09.538Z"
   },
   {
    "duration": 9,
    "start_time": "2022-12-12T11:51:09.928Z"
   },
   {
    "duration": 228,
    "start_time": "2022-12-12T11:51:09.939Z"
   },
   {
    "duration": 6,
    "start_time": "2022-12-12T11:51:10.168Z"
   },
   {
    "duration": 227,
    "start_time": "2022-12-12T11:51:10.176Z"
   },
   {
    "duration": 5,
    "start_time": "2022-12-12T11:51:10.404Z"
   },
   {
    "duration": 15,
    "start_time": "2022-12-12T11:51:10.411Z"
   },
   {
    "duration": 33,
    "start_time": "2022-12-12T11:51:10.427Z"
   },
   {
    "duration": 53,
    "start_time": "2022-12-12T11:51:10.461Z"
   },
   {
    "duration": 76,
    "start_time": "2022-12-12T11:51:10.515Z"
   },
   {
    "duration": 69,
    "start_time": "2022-12-12T11:51:10.593Z"
   },
   {
    "duration": 51,
    "start_time": "2022-12-12T11:51:10.664Z"
   },
   {
    "duration": 25,
    "start_time": "2022-12-12T11:51:10.717Z"
   },
   {
    "duration": 183,
    "start_time": "2022-12-12T11:51:10.744Z"
   },
   {
    "duration": 8,
    "start_time": "2022-12-12T11:51:10.929Z"
   },
   {
    "duration": 41,
    "start_time": "2022-12-12T11:51:10.939Z"
   },
   {
    "duration": 12,
    "start_time": "2022-12-12T11:51:10.982Z"
   },
   {
    "duration": 15,
    "start_time": "2022-12-12T11:51:10.996Z"
   },
   {
    "duration": 11,
    "start_time": "2022-12-12T11:51:11.013Z"
   },
   {
    "duration": 58,
    "start_time": "2022-12-12T11:51:11.026Z"
   },
   {
    "duration": 23,
    "start_time": "2022-12-12T11:51:11.086Z"
   },
   {
    "duration": 1391,
    "start_time": "2022-12-12T13:29:12.942Z"
   },
   {
    "duration": 229,
    "start_time": "2022-12-12T13:29:14.336Z"
   },
   {
    "duration": 21,
    "start_time": "2022-12-12T13:29:14.568Z"
   },
   {
    "duration": 22,
    "start_time": "2022-12-12T13:29:14.592Z"
   },
   {
    "duration": 48,
    "start_time": "2022-12-12T13:29:14.620Z"
   },
   {
    "duration": 30,
    "start_time": "2022-12-12T13:29:14.670Z"
   },
   {
    "duration": 28,
    "start_time": "2022-12-12T13:29:14.704Z"
   },
   {
    "duration": 8,
    "start_time": "2022-12-12T13:29:14.735Z"
   },
   {
    "duration": 35,
    "start_time": "2022-12-12T13:29:14.745Z"
   },
   {
    "duration": 14,
    "start_time": "2022-12-12T13:29:14.786Z"
   },
   {
    "duration": 12,
    "start_time": "2022-12-12T13:29:14.802Z"
   },
   {
    "duration": 16,
    "start_time": "2022-12-12T13:29:14.818Z"
   },
   {
    "duration": 9,
    "start_time": "2022-12-12T13:29:14.836Z"
   },
   {
    "duration": 41,
    "start_time": "2022-12-12T13:29:14.850Z"
   },
   {
    "duration": 16,
    "start_time": "2022-12-12T13:29:14.894Z"
   },
   {
    "duration": 25,
    "start_time": "2022-12-12T13:29:14.913Z"
   },
   {
    "duration": 6,
    "start_time": "2022-12-12T13:29:14.941Z"
   },
   {
    "duration": 28,
    "start_time": "2022-12-12T13:29:14.949Z"
   },
   {
    "duration": 41,
    "start_time": "2022-12-12T13:29:14.979Z"
   },
   {
    "duration": 370,
    "start_time": "2022-12-12T13:29:15.022Z"
   },
   {
    "duration": 273,
    "start_time": "2022-12-12T13:29:15.394Z"
   },
   {
    "duration": 131,
    "start_time": "2022-12-12T13:29:15.669Z"
   },
   {
    "duration": 19,
    "start_time": "2022-12-12T13:29:15.802Z"
   },
   {
    "duration": 24,
    "start_time": "2022-12-12T13:29:15.824Z"
   },
   {
    "duration": 342,
    "start_time": "2022-12-12T13:29:15.850Z"
   },
   {
    "duration": 270,
    "start_time": "2022-12-12T13:29:16.194Z"
   },
   {
    "duration": 469,
    "start_time": "2022-12-12T13:29:16.466Z"
   },
   {
    "duration": 296,
    "start_time": "2022-12-12T13:29:16.937Z"
   },
   {
    "duration": 350,
    "start_time": "2022-12-12T13:29:17.235Z"
   },
   {
    "duration": 7,
    "start_time": "2022-12-12T13:29:17.587Z"
   },
   {
    "duration": 294,
    "start_time": "2022-12-12T13:29:17.596Z"
   },
   {
    "duration": 6,
    "start_time": "2022-12-12T13:29:17.893Z"
   },
   {
    "duration": 315,
    "start_time": "2022-12-12T13:29:17.914Z"
   },
   {
    "duration": 8,
    "start_time": "2022-12-12T13:29:18.231Z"
   },
   {
    "duration": 25,
    "start_time": "2022-12-12T13:29:18.241Z"
   },
   {
    "duration": 48,
    "start_time": "2022-12-12T13:29:18.269Z"
   },
   {
    "duration": 77,
    "start_time": "2022-12-12T13:29:18.319Z"
   },
   {
    "duration": 94,
    "start_time": "2022-12-12T13:29:18.398Z"
   },
   {
    "duration": 65,
    "start_time": "2022-12-12T13:29:18.495Z"
   },
   {
    "duration": 65,
    "start_time": "2022-12-12T13:29:18.562Z"
   },
   {
    "duration": 38,
    "start_time": "2022-12-12T13:29:18.634Z"
   },
   {
    "duration": 152,
    "start_time": "2022-12-12T13:29:18.673Z"
   },
   {
    "duration": 7,
    "start_time": "2022-12-12T13:29:18.827Z"
   },
   {
    "duration": 26,
    "start_time": "2022-12-12T13:29:18.836Z"
   },
   {
    "duration": 15,
    "start_time": "2022-12-12T13:29:18.864Z"
   },
   {
    "duration": 38,
    "start_time": "2022-12-12T13:29:18.881Z"
   },
   {
    "duration": 26,
    "start_time": "2022-12-12T13:29:18.922Z"
   },
   {
    "duration": 50,
    "start_time": "2022-12-12T13:29:18.951Z"
   },
   {
    "duration": 36,
    "start_time": "2022-12-12T13:29:19.004Z"
   },
   {
    "duration": 12,
    "start_time": "2022-12-12T13:36:52.286Z"
   },
   {
    "duration": 1571,
    "start_time": "2022-12-12T15:08:01.334Z"
   },
   {
    "duration": 222,
    "start_time": "2022-12-12T15:08:02.907Z"
   },
   {
    "duration": 16,
    "start_time": "2022-12-12T15:08:03.131Z"
   },
   {
    "duration": 35,
    "start_time": "2022-12-12T15:08:03.150Z"
   },
   {
    "duration": 31,
    "start_time": "2022-12-12T15:08:03.187Z"
   },
   {
    "duration": 14,
    "start_time": "2022-12-12T15:08:03.220Z"
   },
   {
    "duration": 29,
    "start_time": "2022-12-12T15:08:03.236Z"
   },
   {
    "duration": 11,
    "start_time": "2022-12-12T15:08:03.267Z"
   },
   {
    "duration": 18,
    "start_time": "2022-12-12T15:08:03.280Z"
   },
   {
    "duration": 12,
    "start_time": "2022-12-12T15:08:03.301Z"
   },
   {
    "duration": 9,
    "start_time": "2022-12-12T15:08:03.314Z"
   },
   {
    "duration": 12,
    "start_time": "2022-12-12T15:08:03.325Z"
   },
   {
    "duration": 5,
    "start_time": "2022-12-12T15:08:03.350Z"
   },
   {
    "duration": 11,
    "start_time": "2022-12-12T15:08:03.358Z"
   },
   {
    "duration": 28,
    "start_time": "2022-12-12T15:08:03.371Z"
   },
   {
    "duration": 10,
    "start_time": "2022-12-12T15:08:03.401Z"
   },
   {
    "duration": 11,
    "start_time": "2022-12-12T15:08:03.413Z"
   },
   {
    "duration": 26,
    "start_time": "2022-12-12T15:08:03.426Z"
   },
   {
    "duration": 6,
    "start_time": "2022-12-12T15:08:03.454Z"
   },
   {
    "duration": 16,
    "start_time": "2022-12-12T15:08:03.461Z"
   },
   {
    "duration": 18,
    "start_time": "2022-12-12T15:08:03.479Z"
   },
   {
    "duration": 326,
    "start_time": "2022-12-12T15:08:03.499Z"
   },
   {
    "duration": 125,
    "start_time": "2022-12-12T15:08:03.827Z"
   },
   {
    "duration": 0,
    "start_time": "2022-12-12T15:08:03.954Z"
   },
   {
    "duration": 0,
    "start_time": "2022-12-12T15:08:03.956Z"
   },
   {
    "duration": 0,
    "start_time": "2022-12-12T15:08:03.957Z"
   },
   {
    "duration": 0,
    "start_time": "2022-12-12T15:08:03.959Z"
   },
   {
    "duration": 0,
    "start_time": "2022-12-12T15:08:03.960Z"
   },
   {
    "duration": 0,
    "start_time": "2022-12-12T15:08:03.961Z"
   },
   {
    "duration": 0,
    "start_time": "2022-12-12T15:08:03.963Z"
   },
   {
    "duration": 0,
    "start_time": "2022-12-12T15:08:03.964Z"
   },
   {
    "duration": 0,
    "start_time": "2022-12-12T15:08:03.965Z"
   },
   {
    "duration": 0,
    "start_time": "2022-12-12T15:08:03.966Z"
   },
   {
    "duration": 0,
    "start_time": "2022-12-12T15:08:03.967Z"
   },
   {
    "duration": 0,
    "start_time": "2022-12-12T15:08:03.968Z"
   },
   {
    "duration": 0,
    "start_time": "2022-12-12T15:08:03.969Z"
   },
   {
    "duration": 0,
    "start_time": "2022-12-12T15:08:03.970Z"
   },
   {
    "duration": 0,
    "start_time": "2022-12-12T15:08:03.972Z"
   },
   {
    "duration": 0,
    "start_time": "2022-12-12T15:08:03.973Z"
   },
   {
    "duration": 0,
    "start_time": "2022-12-12T15:08:03.975Z"
   },
   {
    "duration": 0,
    "start_time": "2022-12-12T15:08:03.977Z"
   },
   {
    "duration": 0,
    "start_time": "2022-12-12T15:08:03.978Z"
   },
   {
    "duration": 0,
    "start_time": "2022-12-12T15:08:03.980Z"
   },
   {
    "duration": 1,
    "start_time": "2022-12-12T15:08:03.981Z"
   },
   {
    "duration": 0,
    "start_time": "2022-12-12T15:08:03.983Z"
   },
   {
    "duration": 0,
    "start_time": "2022-12-12T15:08:03.984Z"
   },
   {
    "duration": 0,
    "start_time": "2022-12-12T15:08:03.985Z"
   },
   {
    "duration": 0,
    "start_time": "2022-12-12T15:08:03.987Z"
   },
   {
    "duration": 0,
    "start_time": "2022-12-12T15:08:03.988Z"
   },
   {
    "duration": 0,
    "start_time": "2022-12-12T15:08:03.989Z"
   },
   {
    "duration": 0,
    "start_time": "2022-12-12T15:08:03.991Z"
   },
   {
    "duration": 3,
    "start_time": "2022-12-12T15:40:01.777Z"
   },
   {
    "duration": 17,
    "start_time": "2022-12-12T15:40:24.906Z"
   },
   {
    "duration": 69,
    "start_time": "2022-12-12T15:40:49.898Z"
   },
   {
    "duration": 16,
    "start_time": "2022-12-12T15:41:18.305Z"
   },
   {
    "duration": 30,
    "start_time": "2022-12-12T15:42:30.364Z"
   },
   {
    "duration": 17,
    "start_time": "2022-12-12T15:47:01.450Z"
   },
   {
    "duration": 1320,
    "start_time": "2022-12-12T16:03:04.949Z"
   },
   {
    "duration": 1271,
    "start_time": "2022-12-12T16:03:21.834Z"
   },
   {
    "duration": 12,
    "start_time": "2022-12-12T16:03:38.126Z"
   },
   {
    "duration": 10,
    "start_time": "2022-12-12T16:06:34.719Z"
   },
   {
    "duration": 10,
    "start_time": "2022-12-12T16:08:30.179Z"
   },
   {
    "duration": 88,
    "start_time": "2022-12-12T16:08:44.973Z"
   },
   {
    "duration": 5,
    "start_time": "2022-12-12T16:08:55.082Z"
   },
   {
    "duration": 7,
    "start_time": "2022-12-12T16:10:44.857Z"
   },
   {
    "duration": 13,
    "start_time": "2022-12-12T16:11:40.073Z"
   },
   {
    "duration": 7,
    "start_time": "2022-12-12T16:15:20.484Z"
   },
   {
    "duration": 184,
    "start_time": "2022-12-12T16:15:21.480Z"
   },
   {
    "duration": 145,
    "start_time": "2022-12-12T16:15:25.857Z"
   },
   {
    "duration": 8,
    "start_time": "2022-12-12T16:15:29.318Z"
   },
   {
    "duration": 10,
    "start_time": "2022-12-12T16:15:30.232Z"
   },
   {
    "duration": 372,
    "start_time": "2022-12-12T16:15:35.824Z"
   },
   {
    "duration": 4,
    "start_time": "2022-12-12T16:19:20.021Z"
   },
   {
    "duration": 71,
    "start_time": "2022-12-12T16:19:20.033Z"
   },
   {
    "duration": 15,
    "start_time": "2022-12-12T16:19:20.107Z"
   },
   {
    "duration": 18,
    "start_time": "2022-12-12T16:19:20.124Z"
   },
   {
    "duration": 15,
    "start_time": "2022-12-12T16:19:20.145Z"
   },
   {
    "duration": 14,
    "start_time": "2022-12-12T16:19:20.164Z"
   },
   {
    "duration": 19,
    "start_time": "2022-12-12T16:19:20.180Z"
   },
   {
    "duration": 20,
    "start_time": "2022-12-12T16:19:20.201Z"
   },
   {
    "duration": 24,
    "start_time": "2022-12-12T16:19:20.224Z"
   },
   {
    "duration": 25,
    "start_time": "2022-12-12T16:19:20.249Z"
   },
   {
    "duration": 13,
    "start_time": "2022-12-12T16:19:20.276Z"
   },
   {
    "duration": 4,
    "start_time": "2022-12-12T16:19:20.291Z"
   },
   {
    "duration": 12,
    "start_time": "2022-12-12T16:19:20.298Z"
   },
   {
    "duration": 9,
    "start_time": "2022-12-12T16:19:20.312Z"
   },
   {
    "duration": 32,
    "start_time": "2022-12-12T16:19:20.326Z"
   },
   {
    "duration": 16,
    "start_time": "2022-12-12T16:19:20.360Z"
   },
   {
    "duration": 17,
    "start_time": "2022-12-12T16:19:20.379Z"
   },
   {
    "duration": 14,
    "start_time": "2022-12-12T16:19:20.398Z"
   },
   {
    "duration": 39,
    "start_time": "2022-12-12T16:19:20.414Z"
   },
   {
    "duration": 9,
    "start_time": "2022-12-12T16:19:20.455Z"
   },
   {
    "duration": 13,
    "start_time": "2022-12-12T16:19:20.466Z"
   },
   {
    "duration": 14,
    "start_time": "2022-12-12T16:19:20.481Z"
   },
   {
    "duration": 343,
    "start_time": "2022-12-12T16:19:20.498Z"
   },
   {
    "duration": 14,
    "start_time": "2022-12-12T16:19:20.842Z"
   },
   {
    "duration": 17,
    "start_time": "2022-12-12T16:19:20.857Z"
   },
   {
    "duration": 9,
    "start_time": "2022-12-12T16:19:20.876Z"
   },
   {
    "duration": 188,
    "start_time": "2022-12-12T16:19:20.887Z"
   },
   {
    "duration": 150,
    "start_time": "2022-12-12T16:19:21.077Z"
   },
   {
    "duration": 22,
    "start_time": "2022-12-12T16:19:21.229Z"
   },
   {
    "duration": 9,
    "start_time": "2022-12-12T16:19:21.253Z"
   },
   {
    "duration": 310,
    "start_time": "2022-12-12T16:19:21.264Z"
   },
   {
    "duration": 417,
    "start_time": "2022-12-12T16:19:21.576Z"
   },
   {
    "duration": 476,
    "start_time": "2022-12-12T16:19:21.995Z"
   },
   {
    "duration": 331,
    "start_time": "2022-12-12T16:19:22.473Z"
   },
   {
    "duration": 374,
    "start_time": "2022-12-12T16:19:22.807Z"
   },
   {
    "duration": 9,
    "start_time": "2022-12-12T16:19:23.183Z"
   },
   {
    "duration": 257,
    "start_time": "2022-12-12T16:19:23.196Z"
   },
   {
    "duration": 5,
    "start_time": "2022-12-12T16:19:23.455Z"
   },
   {
    "duration": 266,
    "start_time": "2022-12-12T16:19:23.462Z"
   },
   {
    "duration": 6,
    "start_time": "2022-12-12T16:19:23.729Z"
   },
   {
    "duration": 24,
    "start_time": "2022-12-12T16:19:23.737Z"
   },
   {
    "duration": 20,
    "start_time": "2022-12-12T16:19:23.763Z"
   },
   {
    "duration": 75,
    "start_time": "2022-12-12T16:19:23.785Z"
   },
   {
    "duration": 59,
    "start_time": "2022-12-12T16:19:23.861Z"
   },
   {
    "duration": 63,
    "start_time": "2022-12-12T16:19:23.921Z"
   },
   {
    "duration": 65,
    "start_time": "2022-12-12T16:19:23.986Z"
   },
   {
    "duration": 28,
    "start_time": "2022-12-12T16:19:24.053Z"
   },
   {
    "duration": 190,
    "start_time": "2022-12-12T16:19:24.083Z"
   },
   {
    "duration": 9,
    "start_time": "2022-12-12T16:19:24.275Z"
   },
   {
    "duration": 43,
    "start_time": "2022-12-12T16:19:24.286Z"
   },
   {
    "duration": 12,
    "start_time": "2022-12-12T16:19:24.350Z"
   },
   {
    "duration": 13,
    "start_time": "2022-12-12T16:19:24.364Z"
   },
   {
    "duration": 15,
    "start_time": "2022-12-12T16:19:24.380Z"
   },
   {
    "duration": 56,
    "start_time": "2022-12-12T16:19:24.397Z"
   },
   {
    "duration": 17,
    "start_time": "2022-12-12T16:19:24.455Z"
   },
   {
    "duration": 16,
    "start_time": "2022-12-12T16:23:48.618Z"
   },
   {
    "duration": 12,
    "start_time": "2022-12-12T16:23:59.698Z"
   },
   {
    "duration": 4,
    "start_time": "2022-12-12T16:24:05.838Z"
   },
   {
    "duration": 77,
    "start_time": "2022-12-12T16:24:05.844Z"
   },
   {
    "duration": 12,
    "start_time": "2022-12-12T16:24:05.923Z"
   },
   {
    "duration": 15,
    "start_time": "2022-12-12T16:24:05.937Z"
   },
   {
    "duration": 14,
    "start_time": "2022-12-12T16:24:05.955Z"
   },
   {
    "duration": 11,
    "start_time": "2022-12-12T16:24:05.970Z"
   },
   {
    "duration": 10,
    "start_time": "2022-12-12T16:24:05.983Z"
   },
   {
    "duration": 30,
    "start_time": "2022-12-12T16:24:05.994Z"
   },
   {
    "duration": 10,
    "start_time": "2022-12-12T16:24:06.026Z"
   },
   {
    "duration": 13,
    "start_time": "2022-12-12T16:24:06.038Z"
   },
   {
    "duration": 8,
    "start_time": "2022-12-12T16:24:06.055Z"
   },
   {
    "duration": 8,
    "start_time": "2022-12-12T16:24:06.064Z"
   },
   {
    "duration": 4,
    "start_time": "2022-12-12T16:24:06.074Z"
   },
   {
    "duration": 4,
    "start_time": "2022-12-12T16:24:06.080Z"
   },
   {
    "duration": 9,
    "start_time": "2022-12-12T16:24:06.086Z"
   },
   {
    "duration": 12,
    "start_time": "2022-12-12T16:24:06.096Z"
   },
   {
    "duration": 7,
    "start_time": "2022-12-12T16:24:06.110Z"
   },
   {
    "duration": 38,
    "start_time": "2022-12-12T16:24:06.119Z"
   },
   {
    "duration": 7,
    "start_time": "2022-12-12T16:24:06.159Z"
   },
   {
    "duration": 18,
    "start_time": "2022-12-12T16:24:06.168Z"
   },
   {
    "duration": 14,
    "start_time": "2022-12-12T16:24:06.188Z"
   },
   {
    "duration": 311,
    "start_time": "2022-12-12T16:24:06.204Z"
   },
   {
    "duration": 9,
    "start_time": "2022-12-12T16:24:06.517Z"
   },
   {
    "duration": 17,
    "start_time": "2022-12-12T16:24:16.422Z"
   },
   {
    "duration": 11,
    "start_time": "2022-12-12T16:24:30.853Z"
   },
   {
    "duration": 10,
    "start_time": "2022-12-12T16:25:04.938Z"
   },
   {
    "duration": 5,
    "start_time": "2022-12-12T16:25:05.840Z"
   },
   {
    "duration": 7,
    "start_time": "2022-12-12T16:25:13.231Z"
   },
   {
    "duration": 180,
    "start_time": "2022-12-12T16:25:13.241Z"
   },
   {
    "duration": 159,
    "start_time": "2022-12-12T16:25:13.423Z"
   },
   {
    "duration": 7,
    "start_time": "2022-12-12T16:25:13.584Z"
   },
   {
    "duration": 20,
    "start_time": "2022-12-12T16:25:13.593Z"
   },
   {
    "duration": 261,
    "start_time": "2022-12-12T16:25:13.615Z"
   },
   {
    "duration": 288,
    "start_time": "2022-12-12T16:25:13.877Z"
   },
   {
    "duration": 474,
    "start_time": "2022-12-12T16:25:14.167Z"
   },
   {
    "duration": 300,
    "start_time": "2022-12-12T16:25:14.643Z"
   },
   {
    "duration": 373,
    "start_time": "2022-12-12T16:25:14.945Z"
   },
   {
    "duration": 7,
    "start_time": "2022-12-12T16:25:15.320Z"
   },
   {
    "duration": 241,
    "start_time": "2022-12-12T16:25:15.329Z"
   },
   {
    "duration": 5,
    "start_time": "2022-12-12T16:25:15.572Z"
   },
   {
    "duration": 226,
    "start_time": "2022-12-12T16:25:15.579Z"
   },
   {
    "duration": 5,
    "start_time": "2022-12-12T16:25:15.807Z"
   },
   {
    "duration": 17,
    "start_time": "2022-12-12T16:25:15.814Z"
   },
   {
    "duration": 17,
    "start_time": "2022-12-12T16:25:15.851Z"
   },
   {
    "duration": 60,
    "start_time": "2022-12-12T16:25:15.869Z"
   },
   {
    "duration": 66,
    "start_time": "2022-12-12T16:25:15.931Z"
   },
   {
    "duration": 62,
    "start_time": "2022-12-12T16:25:15.998Z"
   },
   {
    "duration": 52,
    "start_time": "2022-12-12T16:25:16.062Z"
   },
   {
    "duration": 40,
    "start_time": "2022-12-12T16:25:16.116Z"
   },
   {
    "duration": 146,
    "start_time": "2022-12-12T16:25:16.158Z"
   },
   {
    "duration": 7,
    "start_time": "2022-12-12T16:25:16.306Z"
   },
   {
    "duration": 39,
    "start_time": "2022-12-12T16:25:16.315Z"
   },
   {
    "duration": 13,
    "start_time": "2022-12-12T16:25:16.356Z"
   },
   {
    "duration": 10,
    "start_time": "2022-12-12T16:25:16.371Z"
   },
   {
    "duration": 10,
    "start_time": "2022-12-12T16:25:16.386Z"
   },
   {
    "duration": 62,
    "start_time": "2022-12-12T16:25:16.399Z"
   },
   {
    "duration": 15,
    "start_time": "2022-12-12T16:25:16.463Z"
   },
   {
    "duration": 215,
    "start_time": "2022-12-12T16:26:20.623Z"
   },
   {
    "duration": 218,
    "start_time": "2022-12-12T16:26:38.318Z"
   },
   {
    "duration": 2,
    "start_time": "2022-12-12T16:31:38.212Z"
   },
   {
    "duration": 6,
    "start_time": "2022-12-12T16:31:47.058Z"
   },
   {
    "duration": 4,
    "start_time": "2022-12-12T16:31:51.477Z"
   },
   {
    "duration": 77,
    "start_time": "2022-12-12T16:31:51.483Z"
   },
   {
    "duration": 11,
    "start_time": "2022-12-12T16:31:51.561Z"
   },
   {
    "duration": 12,
    "start_time": "2022-12-12T16:31:51.574Z"
   },
   {
    "duration": 9,
    "start_time": "2022-12-12T16:31:51.589Z"
   },
   {
    "duration": 8,
    "start_time": "2022-12-12T16:31:51.600Z"
   },
   {
    "duration": 8,
    "start_time": "2022-12-12T16:31:51.609Z"
   },
   {
    "duration": 34,
    "start_time": "2022-12-12T16:31:51.618Z"
   },
   {
    "duration": 9,
    "start_time": "2022-12-12T16:31:51.654Z"
   },
   {
    "duration": 15,
    "start_time": "2022-12-12T16:31:51.664Z"
   },
   {
    "duration": 8,
    "start_time": "2022-12-12T16:31:51.680Z"
   },
   {
    "duration": 4,
    "start_time": "2022-12-12T16:31:51.690Z"
   },
   {
    "duration": 13,
    "start_time": "2022-12-12T16:31:51.696Z"
   },
   {
    "duration": 4,
    "start_time": "2022-12-12T16:31:51.712Z"
   },
   {
    "duration": 13,
    "start_time": "2022-12-12T16:31:51.718Z"
   },
   {
    "duration": 12,
    "start_time": "2022-12-12T16:31:51.751Z"
   },
   {
    "duration": 9,
    "start_time": "2022-12-12T16:31:51.765Z"
   },
   {
    "duration": 19,
    "start_time": "2022-12-12T16:31:51.776Z"
   },
   {
    "duration": 15,
    "start_time": "2022-12-12T16:31:51.797Z"
   },
   {
    "duration": 27,
    "start_time": "2022-12-12T16:31:51.814Z"
   },
   {
    "duration": 26,
    "start_time": "2022-12-12T16:31:51.843Z"
   },
   {
    "duration": 304,
    "start_time": "2022-12-12T16:31:51.871Z"
   },
   {
    "duration": 12,
    "start_time": "2022-12-12T16:31:52.176Z"
   },
   {
    "duration": 20,
    "start_time": "2022-12-12T16:31:52.189Z"
   },
   {
    "duration": 9,
    "start_time": "2022-12-12T16:31:52.211Z"
   },
   {
    "duration": 184,
    "start_time": "2022-12-12T16:31:52.222Z"
   },
   {
    "duration": 143,
    "start_time": "2022-12-12T16:31:52.408Z"
   },
   {
    "duration": 8,
    "start_time": "2022-12-12T16:31:52.553Z"
   },
   {
    "duration": 23,
    "start_time": "2022-12-12T16:31:52.563Z"
   },
   {
    "duration": 262,
    "start_time": "2022-12-12T16:31:52.588Z"
   },
   {
    "duration": 251,
    "start_time": "2022-12-12T16:31:52.853Z"
   },
   {
    "duration": 456,
    "start_time": "2022-12-12T16:31:53.107Z"
   },
   {
    "duration": 277,
    "start_time": "2022-12-12T16:31:53.565Z"
   },
   {
    "duration": 384,
    "start_time": "2022-12-12T16:31:53.844Z"
   },
   {
    "duration": 8,
    "start_time": "2022-12-12T16:31:54.229Z"
   },
   {
    "duration": 216,
    "start_time": "2022-12-12T16:31:54.238Z"
   },
   {
    "duration": 5,
    "start_time": "2022-12-12T16:31:54.458Z"
   },
   {
    "duration": 3,
    "start_time": "2022-12-12T16:32:20.129Z"
   },
   {
    "duration": 78,
    "start_time": "2022-12-12T16:32:20.134Z"
   },
   {
    "duration": 14,
    "start_time": "2022-12-12T16:32:20.214Z"
   },
   {
    "duration": 18,
    "start_time": "2022-12-12T16:32:20.230Z"
   },
   {
    "duration": 17,
    "start_time": "2022-12-12T16:32:20.250Z"
   },
   {
    "duration": 12,
    "start_time": "2022-12-12T16:32:20.269Z"
   },
   {
    "duration": 8,
    "start_time": "2022-12-12T16:32:20.283Z"
   },
   {
    "duration": 8,
    "start_time": "2022-12-12T16:32:20.293Z"
   },
   {
    "duration": 10,
    "start_time": "2022-12-12T16:32:20.302Z"
   },
   {
    "duration": 9,
    "start_time": "2022-12-12T16:32:20.314Z"
   },
   {
    "duration": 29,
    "start_time": "2022-12-12T16:32:20.326Z"
   },
   {
    "duration": 7,
    "start_time": "2022-12-12T16:32:20.357Z"
   },
   {
    "duration": 6,
    "start_time": "2022-12-12T16:32:20.366Z"
   },
   {
    "duration": 8,
    "start_time": "2022-12-12T16:32:20.374Z"
   },
   {
    "duration": 9,
    "start_time": "2022-12-12T16:32:20.384Z"
   },
   {
    "duration": 20,
    "start_time": "2022-12-12T16:32:20.394Z"
   },
   {
    "duration": 6,
    "start_time": "2022-12-12T16:32:20.416Z"
   },
   {
    "duration": 12,
    "start_time": "2022-12-12T16:32:20.423Z"
   },
   {
    "duration": 5,
    "start_time": "2022-12-12T16:32:20.450Z"
   },
   {
    "duration": 14,
    "start_time": "2022-12-12T16:32:20.456Z"
   },
   {
    "duration": 15,
    "start_time": "2022-12-12T16:32:20.471Z"
   },
   {
    "duration": 324,
    "start_time": "2022-12-12T16:32:20.488Z"
   },
   {
    "duration": 10,
    "start_time": "2022-12-12T16:32:20.814Z"
   },
   {
    "duration": 8,
    "start_time": "2022-12-12T16:32:20.825Z"
   },
   {
    "duration": 19,
    "start_time": "2022-12-12T16:32:20.834Z"
   },
   {
    "duration": 172,
    "start_time": "2022-12-12T16:32:20.855Z"
   },
   {
    "duration": 143,
    "start_time": "2022-12-12T16:32:21.028Z"
   },
   {
    "duration": 7,
    "start_time": "2022-12-12T16:32:21.173Z"
   },
   {
    "duration": 14,
    "start_time": "2022-12-12T16:32:21.183Z"
   },
   {
    "duration": 261,
    "start_time": "2022-12-12T16:32:21.199Z"
   },
   {
    "duration": 264,
    "start_time": "2022-12-12T16:32:21.462Z"
   },
   {
    "duration": 424,
    "start_time": "2022-12-12T16:32:21.727Z"
   },
   {
    "duration": 304,
    "start_time": "2022-12-12T16:32:22.153Z"
   },
   {
    "duration": 370,
    "start_time": "2022-12-12T16:32:22.458Z"
   },
   {
    "duration": 7,
    "start_time": "2022-12-12T16:32:22.830Z"
   },
   {
    "duration": 320,
    "start_time": "2022-12-12T16:32:22.839Z"
   },
   {
    "duration": 5,
    "start_time": "2022-12-12T16:32:23.161Z"
   },
   {
    "duration": 238,
    "start_time": "2022-12-12T16:32:23.168Z"
   },
   {
    "duration": 6,
    "start_time": "2022-12-12T16:32:23.407Z"
   },
   {
    "duration": 22,
    "start_time": "2022-12-12T16:32:23.415Z"
   },
   {
    "duration": 21,
    "start_time": "2022-12-12T16:32:23.439Z"
   },
   {
    "duration": 51,
    "start_time": "2022-12-12T16:32:23.462Z"
   },
   {
    "duration": 68,
    "start_time": "2022-12-12T16:32:23.515Z"
   },
   {
    "duration": 52,
    "start_time": "2022-12-12T16:32:23.585Z"
   },
   {
    "duration": 64,
    "start_time": "2022-12-12T16:32:23.639Z"
   },
   {
    "duration": 24,
    "start_time": "2022-12-12T16:32:23.704Z"
   },
   {
    "duration": 143,
    "start_time": "2022-12-12T16:32:23.730Z"
   },
   {
    "duration": 7,
    "start_time": "2022-12-12T16:32:23.874Z"
   },
   {
    "duration": 28,
    "start_time": "2022-12-12T16:32:23.883Z"
   },
   {
    "duration": 11,
    "start_time": "2022-12-12T16:32:23.912Z"
   },
   {
    "duration": 31,
    "start_time": "2022-12-12T16:32:23.924Z"
   },
   {
    "duration": 9,
    "start_time": "2022-12-12T16:32:23.957Z"
   },
   {
    "duration": 24,
    "start_time": "2022-12-12T16:32:23.968Z"
   },
   {
    "duration": 16,
    "start_time": "2022-12-12T16:32:23.993Z"
   },
   {
    "duration": 4,
    "start_time": "2022-12-12T16:36:36.355Z"
   },
   {
    "duration": 6,
    "start_time": "2022-12-12T16:36:44.734Z"
   },
   {
    "duration": 20,
    "start_time": "2022-12-12T16:38:08.547Z"
   },
   {
    "duration": 24,
    "start_time": "2022-12-12T16:38:29.648Z"
   },
   {
    "duration": 14,
    "start_time": "2022-12-12T16:40:02.456Z"
   },
   {
    "duration": 950,
    "start_time": "2022-12-12T16:40:41.782Z"
   },
   {
    "duration": 11,
    "start_time": "2022-12-12T16:42:14.635Z"
   },
   {
    "duration": 68,
    "start_time": "2022-12-12T16:42:30.827Z"
   },
   {
    "duration": 84,
    "start_time": "2022-12-12T16:42:36.473Z"
   },
   {
    "duration": 4,
    "start_time": "2022-12-12T16:45:02.180Z"
   },
   {
    "duration": 101,
    "start_time": "2022-12-12T16:45:02.187Z"
   },
   {
    "duration": 15,
    "start_time": "2022-12-12T16:45:02.290Z"
   },
   {
    "duration": 21,
    "start_time": "2022-12-12T16:45:02.307Z"
   },
   {
    "duration": 19,
    "start_time": "2022-12-12T16:45:02.330Z"
   },
   {
    "duration": 11,
    "start_time": "2022-12-12T16:45:02.351Z"
   },
   {
    "duration": 18,
    "start_time": "2022-12-12T16:45:02.364Z"
   },
   {
    "duration": 17,
    "start_time": "2022-12-12T16:45:02.384Z"
   },
   {
    "duration": 19,
    "start_time": "2022-12-12T16:45:02.402Z"
   },
   {
    "duration": 16,
    "start_time": "2022-12-12T16:45:02.422Z"
   },
   {
    "duration": 14,
    "start_time": "2022-12-12T16:45:02.441Z"
   },
   {
    "duration": 2,
    "start_time": "2022-12-12T16:45:02.457Z"
   },
   {
    "duration": 10,
    "start_time": "2022-12-12T16:45:02.461Z"
   },
   {
    "duration": 8,
    "start_time": "2022-12-12T16:45:02.473Z"
   },
   {
    "duration": 18,
    "start_time": "2022-12-12T16:45:02.483Z"
   },
   {
    "duration": 21,
    "start_time": "2022-12-12T16:45:02.503Z"
   },
   {
    "duration": 10,
    "start_time": "2022-12-12T16:45:02.526Z"
   },
   {
    "duration": 17,
    "start_time": "2022-12-12T16:45:02.538Z"
   },
   {
    "duration": 10,
    "start_time": "2022-12-12T16:45:02.557Z"
   },
   {
    "duration": 20,
    "start_time": "2022-12-12T16:45:02.569Z"
   },
   {
    "duration": 28,
    "start_time": "2022-12-12T16:45:02.590Z"
   },
   {
    "duration": 313,
    "start_time": "2022-12-12T16:45:02.620Z"
   },
   {
    "duration": 19,
    "start_time": "2022-12-12T16:45:02.935Z"
   },
   {
    "duration": 11,
    "start_time": "2022-12-12T16:45:02.956Z"
   },
   {
    "duration": 10,
    "start_time": "2022-12-12T16:45:02.969Z"
   },
   {
    "duration": 201,
    "start_time": "2022-12-12T16:45:02.981Z"
   },
   {
    "duration": 152,
    "start_time": "2022-12-12T16:45:03.184Z"
   },
   {
    "duration": 19,
    "start_time": "2022-12-12T16:45:03.338Z"
   },
   {
    "duration": 13,
    "start_time": "2022-12-12T16:45:03.361Z"
   },
   {
    "duration": 339,
    "start_time": "2022-12-12T16:45:03.376Z"
   },
   {
    "duration": 281,
    "start_time": "2022-12-12T16:45:03.716Z"
   },
   {
    "duration": 396,
    "start_time": "2022-12-12T16:45:03.999Z"
   },
   {
    "duration": 287,
    "start_time": "2022-12-12T16:45:04.396Z"
   },
   {
    "duration": 332,
    "start_time": "2022-12-12T16:45:04.685Z"
   },
   {
    "duration": 7,
    "start_time": "2022-12-12T16:45:05.019Z"
   },
   {
    "duration": 255,
    "start_time": "2022-12-12T16:45:05.028Z"
   },
   {
    "duration": 6,
    "start_time": "2022-12-12T16:45:05.286Z"
   },
   {
    "duration": 327,
    "start_time": "2022-12-12T16:45:05.294Z"
   },
   {
    "duration": 6,
    "start_time": "2022-12-12T16:45:05.622Z"
   },
   {
    "duration": 28,
    "start_time": "2022-12-12T16:45:05.630Z"
   },
   {
    "duration": 17,
    "start_time": "2022-12-12T16:45:05.660Z"
   },
   {
    "duration": 53,
    "start_time": "2022-12-12T16:45:05.679Z"
   },
   {
    "duration": 51,
    "start_time": "2022-12-12T16:45:05.751Z"
   },
   {
    "duration": 65,
    "start_time": "2022-12-12T16:45:05.804Z"
   },
   {
    "duration": 51,
    "start_time": "2022-12-12T16:45:05.871Z"
   },
   {
    "duration": 36,
    "start_time": "2022-12-12T16:45:05.924Z"
   },
   {
    "duration": 157,
    "start_time": "2022-12-12T16:45:05.962Z"
   },
   {
    "duration": 6,
    "start_time": "2022-12-12T16:45:06.121Z"
   },
   {
    "duration": 53,
    "start_time": "2022-12-12T16:45:06.129Z"
   },
   {
    "duration": 14,
    "start_time": "2022-12-12T16:45:06.184Z"
   },
   {
    "duration": 16,
    "start_time": "2022-12-12T16:45:10.832Z"
   },
   {
    "duration": 16,
    "start_time": "2022-12-12T16:45:40.874Z"
   },
   {
    "duration": 17,
    "start_time": "2022-12-12T16:47:02.984Z"
   },
   {
    "duration": 10,
    "start_time": "2022-12-12T16:54:10.450Z"
   },
   {
    "duration": 8,
    "start_time": "2022-12-12T17:03:46.546Z"
   },
   {
    "duration": 25,
    "start_time": "2022-12-12T17:03:48.103Z"
   },
   {
    "duration": 4,
    "start_time": "2022-12-12T17:06:18.437Z"
   },
   {
    "duration": 74,
    "start_time": "2022-12-12T17:06:18.444Z"
   },
   {
    "duration": 11,
    "start_time": "2022-12-12T17:06:18.521Z"
   },
   {
    "duration": 12,
    "start_time": "2022-12-12T17:06:18.534Z"
   },
   {
    "duration": 12,
    "start_time": "2022-12-12T17:06:18.549Z"
   },
   {
    "duration": 9,
    "start_time": "2022-12-12T17:06:18.562Z"
   },
   {
    "duration": 9,
    "start_time": "2022-12-12T17:06:18.572Z"
   },
   {
    "duration": 8,
    "start_time": "2022-12-12T17:06:18.583Z"
   },
   {
    "duration": 9,
    "start_time": "2022-12-12T17:06:18.592Z"
   },
   {
    "duration": 13,
    "start_time": "2022-12-12T17:06:18.602Z"
   },
   {
    "duration": 37,
    "start_time": "2022-12-12T17:06:18.619Z"
   },
   {
    "duration": 6,
    "start_time": "2022-12-12T17:06:18.658Z"
   },
   {
    "duration": 6,
    "start_time": "2022-12-12T17:06:18.666Z"
   },
   {
    "duration": 6,
    "start_time": "2022-12-12T17:06:18.673Z"
   },
   {
    "duration": 11,
    "start_time": "2022-12-12T17:06:18.681Z"
   },
   {
    "duration": 15,
    "start_time": "2022-12-12T17:06:18.694Z"
   },
   {
    "duration": 6,
    "start_time": "2022-12-12T17:06:18.711Z"
   },
   {
    "duration": 33,
    "start_time": "2022-12-12T17:06:18.719Z"
   },
   {
    "duration": 5,
    "start_time": "2022-12-12T17:06:18.754Z"
   },
   {
    "duration": 12,
    "start_time": "2022-12-12T17:06:18.761Z"
   },
   {
    "duration": 13,
    "start_time": "2022-12-12T17:06:18.775Z"
   },
   {
    "duration": 314,
    "start_time": "2022-12-12T17:06:18.790Z"
   },
   {
    "duration": 13,
    "start_time": "2022-12-12T17:06:19.106Z"
   },
   {
    "duration": 8,
    "start_time": "2022-12-12T17:06:19.122Z"
   },
   {
    "duration": 8,
    "start_time": "2022-12-12T17:06:19.151Z"
   },
   {
    "duration": 218,
    "start_time": "2022-12-12T17:06:19.161Z"
   },
   {
    "duration": 144,
    "start_time": "2022-12-12T17:06:19.380Z"
   },
   {
    "duration": 9,
    "start_time": "2022-12-12T17:06:19.525Z"
   },
   {
    "duration": 22,
    "start_time": "2022-12-12T17:06:19.537Z"
   },
   {
    "duration": 320,
    "start_time": "2022-12-12T17:06:19.561Z"
   },
   {
    "duration": 271,
    "start_time": "2022-12-12T17:06:19.883Z"
   },
   {
    "duration": 360,
    "start_time": "2022-12-12T17:06:20.155Z"
   },
   {
    "duration": 302,
    "start_time": "2022-12-12T17:06:20.517Z"
   },
   {
    "duration": 384,
    "start_time": "2022-12-12T17:06:20.821Z"
   },
   {
    "duration": 8,
    "start_time": "2022-12-12T17:06:21.207Z"
   },
   {
    "duration": 245,
    "start_time": "2022-12-12T17:06:21.216Z"
   },
   {
    "duration": 5,
    "start_time": "2022-12-12T17:06:21.463Z"
   },
   {
    "duration": 218,
    "start_time": "2022-12-12T17:06:21.470Z"
   },
   {
    "duration": 6,
    "start_time": "2022-12-12T17:06:21.689Z"
   },
   {
    "duration": 4,
    "start_time": "2022-12-12T17:06:21.696Z"
   },
   {
    "duration": 143,
    "start_time": "2022-12-12T17:06:21.702Z"
   },
   {
    "duration": 8,
    "start_time": "2022-12-12T17:06:21.847Z"
   },
   {
    "duration": 26,
    "start_time": "2022-12-12T17:06:21.856Z"
   },
   {
    "duration": 26,
    "start_time": "2022-12-12T17:12:05.330Z"
   },
   {
    "duration": 12,
    "start_time": "2022-12-12T17:13:10.782Z"
   },
   {
    "duration": 13,
    "start_time": "2022-12-12T17:15:54.736Z"
   },
   {
    "duration": 12,
    "start_time": "2022-12-12T17:16:02.433Z"
   },
   {
    "duration": 12,
    "start_time": "2022-12-12T17:16:08.142Z"
   },
   {
    "duration": 12,
    "start_time": "2022-12-12T17:16:23.203Z"
   },
   {
    "duration": 11,
    "start_time": "2022-12-12T17:17:16.267Z"
   },
   {
    "duration": 17,
    "start_time": "2022-12-12T17:19:35.981Z"
   },
   {
    "duration": 5,
    "start_time": "2022-12-12T17:20:49.568Z"
   },
   {
    "duration": 95,
    "start_time": "2022-12-12T17:20:49.579Z"
   },
   {
    "duration": 14,
    "start_time": "2022-12-12T17:20:49.678Z"
   },
   {
    "duration": 24,
    "start_time": "2022-12-12T17:20:49.697Z"
   },
   {
    "duration": 16,
    "start_time": "2022-12-12T17:20:49.724Z"
   },
   {
    "duration": 19,
    "start_time": "2022-12-12T17:20:49.742Z"
   },
   {
    "duration": 13,
    "start_time": "2022-12-12T17:20:49.763Z"
   },
   {
    "duration": 9,
    "start_time": "2022-12-12T17:20:49.779Z"
   },
   {
    "duration": 127,
    "start_time": "2022-12-12T17:20:49.790Z"
   },
   {
    "duration": 13,
    "start_time": "2022-12-12T17:20:49.919Z"
   },
   {
    "duration": 17,
    "start_time": "2022-12-12T17:20:49.935Z"
   },
   {
    "duration": 2,
    "start_time": "2022-12-12T17:20:49.954Z"
   },
   {
    "duration": 7,
    "start_time": "2022-12-12T17:20:49.958Z"
   },
   {
    "duration": 8,
    "start_time": "2022-12-12T17:20:49.966Z"
   },
   {
    "duration": 8,
    "start_time": "2022-12-12T17:20:49.976Z"
   },
   {
    "duration": 11,
    "start_time": "2022-12-12T17:20:49.986Z"
   },
   {
    "duration": 6,
    "start_time": "2022-12-12T17:20:49.999Z"
   },
   {
    "duration": 15,
    "start_time": "2022-12-12T17:20:50.006Z"
   },
   {
    "duration": 33,
    "start_time": "2022-12-12T17:20:50.023Z"
   },
   {
    "duration": 49,
    "start_time": "2022-12-12T17:20:50.059Z"
   },
   {
    "duration": 11,
    "start_time": "2022-12-12T17:20:50.110Z"
   },
   {
    "duration": 296,
    "start_time": "2022-12-12T17:20:50.123Z"
   },
   {
    "duration": 10,
    "start_time": "2022-12-12T17:20:50.421Z"
   },
   {
    "duration": 19,
    "start_time": "2022-12-12T17:20:50.433Z"
   },
   {
    "duration": 8,
    "start_time": "2022-12-12T17:20:50.454Z"
   },
   {
    "duration": 188,
    "start_time": "2022-12-12T17:20:50.464Z"
   },
   {
    "duration": 140,
    "start_time": "2022-12-12T17:20:50.654Z"
   },
   {
    "duration": 7,
    "start_time": "2022-12-12T17:20:50.796Z"
   },
   {
    "duration": 11,
    "start_time": "2022-12-12T17:20:50.807Z"
   },
   {
    "duration": 268,
    "start_time": "2022-12-12T17:20:50.819Z"
   },
   {
    "duration": 260,
    "start_time": "2022-12-12T17:20:51.088Z"
   },
   {
    "duration": 381,
    "start_time": "2022-12-12T17:20:51.351Z"
   },
   {
    "duration": 287,
    "start_time": "2022-12-12T17:20:51.734Z"
   },
   {
    "duration": 391,
    "start_time": "2022-12-12T17:20:52.024Z"
   },
   {
    "duration": 7,
    "start_time": "2022-12-12T17:20:52.417Z"
   },
   {
    "duration": 240,
    "start_time": "2022-12-12T17:20:52.426Z"
   },
   {
    "duration": 5,
    "start_time": "2022-12-12T17:20:52.668Z"
   },
   {
    "duration": 220,
    "start_time": "2022-12-12T17:20:52.675Z"
   },
   {
    "duration": 5,
    "start_time": "2022-12-12T17:20:52.897Z"
   },
   {
    "duration": 146,
    "start_time": "2022-12-12T17:20:52.904Z"
   },
   {
    "duration": 10,
    "start_time": "2022-12-12T17:20:53.053Z"
   },
   {
    "duration": 34,
    "start_time": "2022-12-12T17:20:53.065Z"
   },
   {
    "duration": 12,
    "start_time": "2022-12-12T17:20:53.101Z"
   },
   {
    "duration": 11,
    "start_time": "2022-12-12T17:20:53.115Z"
   },
   {
    "duration": 11,
    "start_time": "2022-12-12T17:20:53.150Z"
   },
   {
    "duration": 42,
    "start_time": "2022-12-12T17:20:53.163Z"
   },
   {
    "duration": 16,
    "start_time": "2022-12-12T17:20:53.207Z"
   },
   {
    "duration": 1378,
    "start_time": "2022-12-13T13:46:43.299Z"
   },
   {
    "duration": 85,
    "start_time": "2022-12-13T13:46:44.680Z"
   },
   {
    "duration": 11,
    "start_time": "2022-12-13T13:46:44.766Z"
   },
   {
    "duration": 16,
    "start_time": "2022-12-13T13:46:44.779Z"
   },
   {
    "duration": 17,
    "start_time": "2022-12-13T13:46:44.798Z"
   },
   {
    "duration": 13,
    "start_time": "2022-12-13T13:46:44.816Z"
   },
   {
    "duration": 8,
    "start_time": "2022-12-13T13:46:44.830Z"
   },
   {
    "duration": 8,
    "start_time": "2022-12-13T13:46:44.840Z"
   },
   {
    "duration": 13,
    "start_time": "2022-12-13T13:46:44.849Z"
   },
   {
    "duration": 17,
    "start_time": "2022-12-13T13:46:44.864Z"
   },
   {
    "duration": 17,
    "start_time": "2022-12-13T13:46:44.882Z"
   },
   {
    "duration": 3,
    "start_time": "2022-12-13T13:46:44.901Z"
   },
   {
    "duration": 7,
    "start_time": "2022-12-13T13:46:44.905Z"
   },
   {
    "duration": 8,
    "start_time": "2022-12-13T13:46:44.914Z"
   },
   {
    "duration": 11,
    "start_time": "2022-12-13T13:46:44.924Z"
   },
   {
    "duration": 12,
    "start_time": "2022-12-13T13:46:44.936Z"
   },
   {
    "duration": 6,
    "start_time": "2022-12-13T13:46:44.949Z"
   },
   {
    "duration": 31,
    "start_time": "2022-12-13T13:46:44.956Z"
   },
   {
    "duration": 8,
    "start_time": "2022-12-13T13:46:44.989Z"
   },
   {
    "duration": 16,
    "start_time": "2022-12-13T13:46:44.999Z"
   },
   {
    "duration": 27,
    "start_time": "2022-12-13T13:46:45.016Z"
   },
   {
    "duration": 312,
    "start_time": "2022-12-13T13:46:45.045Z"
   },
   {
    "duration": 9,
    "start_time": "2022-12-13T13:46:45.359Z"
   },
   {
    "duration": 7,
    "start_time": "2022-12-13T13:46:45.378Z"
   },
   {
    "duration": 10,
    "start_time": "2022-12-13T13:46:45.387Z"
   },
   {
    "duration": 176,
    "start_time": "2022-12-13T13:46:45.400Z"
   },
   {
    "duration": 150,
    "start_time": "2022-12-13T13:46:45.578Z"
   },
   {
    "duration": 7,
    "start_time": "2022-12-13T13:46:45.730Z"
   },
   {
    "duration": 19,
    "start_time": "2022-12-13T13:46:45.739Z"
   },
   {
    "duration": 339,
    "start_time": "2022-12-13T13:46:45.759Z"
   },
   {
    "duration": 253,
    "start_time": "2022-12-13T13:46:46.100Z"
   },
   {
    "duration": 395,
    "start_time": "2022-12-13T13:46:46.354Z"
   },
   {
    "duration": 295,
    "start_time": "2022-12-13T13:46:46.751Z"
   },
   {
    "duration": 362,
    "start_time": "2022-12-13T13:46:47.047Z"
   },
   {
    "duration": 8,
    "start_time": "2022-12-13T13:46:47.412Z"
   },
   {
    "duration": 313,
    "start_time": "2022-12-13T13:46:47.421Z"
   },
   {
    "duration": 6,
    "start_time": "2022-12-13T13:46:47.736Z"
   },
   {
    "duration": 219,
    "start_time": "2022-12-13T13:46:47.743Z"
   },
   {
    "duration": 5,
    "start_time": "2022-12-13T13:46:47.964Z"
   },
   {
    "duration": 154,
    "start_time": "2022-12-13T13:46:47.970Z"
   },
   {
    "duration": 8,
    "start_time": "2022-12-13T13:46:48.127Z"
   },
   {
    "duration": 29,
    "start_time": "2022-12-13T13:46:48.136Z"
   },
   {
    "duration": 25,
    "start_time": "2022-12-13T13:46:48.167Z"
   },
   {
    "duration": 16,
    "start_time": "2022-12-13T13:46:48.194Z"
   },
   {
    "duration": 124,
    "start_time": "2022-12-13T13:46:48.214Z"
   },
   {
    "duration": 0,
    "start_time": "2022-12-13T13:46:48.339Z"
   },
   {
    "duration": 0,
    "start_time": "2022-12-13T13:46:48.340Z"
   },
   {
    "duration": 9,
    "start_time": "2022-12-13T13:47:08.799Z"
   },
   {
    "duration": 11,
    "start_time": "2022-12-13T13:47:21.330Z"
   },
   {
    "duration": 4,
    "start_time": "2022-12-13T13:48:24.819Z"
   },
   {
    "duration": 5,
    "start_time": "2022-12-13T13:48:36.492Z"
   }
  ],
  "kernelspec": {
   "display_name": "Python 3 (ipykernel)",
   "language": "python",
   "name": "python3"
  },
  "language_info": {
   "codemirror_mode": {
    "name": "ipython",
    "version": 3
   },
   "file_extension": ".py",
   "mimetype": "text/x-python",
   "name": "python",
   "nbconvert_exporter": "python",
   "pygments_lexer": "ipython3",
   "version": "3.9.12"
  },
  "toc": {
   "base_numbering": 1,
   "nav_menu": {},
   "number_sections": false,
   "sideBar": true,
   "skip_h1_title": false,
   "title_cell": "Table of Contents",
   "title_sidebar": "Contents",
   "toc_cell": false,
   "toc_position": {
    "height": "calc(100% - 180px)",
    "left": "10px",
    "top": "150px",
    "width": "418.667px"
   },
   "toc_section_display": true,
   "toc_window_display": true
  }
 },
 "nbformat": 4,
 "nbformat_minor": 2
}
